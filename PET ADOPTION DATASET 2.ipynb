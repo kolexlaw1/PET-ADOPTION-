{
 "cells": [
  {
   "cell_type": "code",
   "execution_count": 30,
   "id": "1dd2c852-8f18-43ea-8be6-855669f4c893",
   "metadata": {},
   "outputs": [],
   "source": [
    "import pandas as pd\n",
    "import numpy as np\n",
    "import matplotlib.pyplot as plt\n",
    "import seaborn as sns\n",
    "from sklearn.model_selection import train_test_split\n",
    "from sklearn.preprocessing import MinMaxScaler\n",
    "from sklearn.linear_model import SGDClassifier\n",
    "from sklearn. neighbors import KNeighborsClassifier\n",
    "from sklearn.ensemble import  RandomForestClassifier\n",
    "from sklearn.linear_model import LogisticRegression \n",
    "from xgboost import XGBClassifier\n",
    "from sklearn.svm import LinearSVC, SVC\n",
    "from sklearn.naive_bayes import GaussianNB\n",
    "from sklearn.svm import SVC\n",
    "from sklearn.tree import DecisionTreeClassifier\n",
    "from sklearn.metrics import accuracy_score, precision_score, recall_score, f1_score, roc_auc_score\n",
    "from sklearn.metrics import confusion_matrix\n",
    "import warnings\n",
    "warnings.filterwarnings(\"ignore\")"
   ]
  },
  {
   "cell_type": "code",
   "execution_count": 31,
   "id": "7b91c3de-cd9d-4c0a-9ef3-1f3c1982bf54",
   "metadata": {},
   "outputs": [],
   "source": [
    "data = pd.read_csv(\"pet_adoption_data.csv\")"
   ]
  },
  {
   "cell_type": "code",
   "execution_count": 32,
   "id": "4dcdcd4f-2b7e-4212-9632-4fc8747142cb",
   "metadata": {},
   "outputs": [
    {
     "data": {
      "text/html": [
       "<div>\n",
       "<style scoped>\n",
       "    .dataframe tbody tr th:only-of-type {\n",
       "        vertical-align: middle;\n",
       "    }\n",
       "\n",
       "    .dataframe tbody tr th {\n",
       "        vertical-align: top;\n",
       "    }\n",
       "\n",
       "    .dataframe thead th {\n",
       "        text-align: right;\n",
       "    }\n",
       "</style>\n",
       "<table border=\"1\" class=\"dataframe\">\n",
       "  <thead>\n",
       "    <tr style=\"text-align: right;\">\n",
       "      <th></th>\n",
       "      <th>PetID</th>\n",
       "      <th>PetType</th>\n",
       "      <th>Breed</th>\n",
       "      <th>AgeMonths</th>\n",
       "      <th>Color</th>\n",
       "      <th>Size</th>\n",
       "      <th>WeightKg</th>\n",
       "      <th>Vaccinated</th>\n",
       "      <th>HealthCondition</th>\n",
       "      <th>TimeInShelterDays</th>\n",
       "      <th>AdoptionFee</th>\n",
       "      <th>PreviousOwner</th>\n",
       "      <th>AdoptionLikelihood</th>\n",
       "    </tr>\n",
       "  </thead>\n",
       "  <tbody>\n",
       "    <tr>\n",
       "      <th>0</th>\n",
       "      <td>500</td>\n",
       "      <td>Bird</td>\n",
       "      <td>Parakeet</td>\n",
       "      <td>131</td>\n",
       "      <td>Orange</td>\n",
       "      <td>Large</td>\n",
       "      <td>5.039768</td>\n",
       "      <td>1</td>\n",
       "      <td>0</td>\n",
       "      <td>27</td>\n",
       "      <td>140</td>\n",
       "      <td>0</td>\n",
       "      <td>0</td>\n",
       "    </tr>\n",
       "    <tr>\n",
       "      <th>1</th>\n",
       "      <td>501</td>\n",
       "      <td>Rabbit</td>\n",
       "      <td>Rabbit</td>\n",
       "      <td>73</td>\n",
       "      <td>White</td>\n",
       "      <td>Large</td>\n",
       "      <td>16.086727</td>\n",
       "      <td>0</td>\n",
       "      <td>0</td>\n",
       "      <td>8</td>\n",
       "      <td>235</td>\n",
       "      <td>0</td>\n",
       "      <td>0</td>\n",
       "    </tr>\n",
       "    <tr>\n",
       "      <th>2</th>\n",
       "      <td>502</td>\n",
       "      <td>Dog</td>\n",
       "      <td>Golden Retriever</td>\n",
       "      <td>136</td>\n",
       "      <td>Orange</td>\n",
       "      <td>Medium</td>\n",
       "      <td>2.076286</td>\n",
       "      <td>0</td>\n",
       "      <td>0</td>\n",
       "      <td>85</td>\n",
       "      <td>385</td>\n",
       "      <td>0</td>\n",
       "      <td>0</td>\n",
       "    </tr>\n",
       "    <tr>\n",
       "      <th>3</th>\n",
       "      <td>503</td>\n",
       "      <td>Bird</td>\n",
       "      <td>Parakeet</td>\n",
       "      <td>97</td>\n",
       "      <td>White</td>\n",
       "      <td>Small</td>\n",
       "      <td>3.339423</td>\n",
       "      <td>0</td>\n",
       "      <td>0</td>\n",
       "      <td>61</td>\n",
       "      <td>217</td>\n",
       "      <td>1</td>\n",
       "      <td>0</td>\n",
       "    </tr>\n",
       "    <tr>\n",
       "      <th>4</th>\n",
       "      <td>504</td>\n",
       "      <td>Rabbit</td>\n",
       "      <td>Rabbit</td>\n",
       "      <td>123</td>\n",
       "      <td>Gray</td>\n",
       "      <td>Large</td>\n",
       "      <td>20.498100</td>\n",
       "      <td>0</td>\n",
       "      <td>0</td>\n",
       "      <td>28</td>\n",
       "      <td>14</td>\n",
       "      <td>1</td>\n",
       "      <td>0</td>\n",
       "    </tr>\n",
       "    <tr>\n",
       "      <th>...</th>\n",
       "      <td>...</td>\n",
       "      <td>...</td>\n",
       "      <td>...</td>\n",
       "      <td>...</td>\n",
       "      <td>...</td>\n",
       "      <td>...</td>\n",
       "      <td>...</td>\n",
       "      <td>...</td>\n",
       "      <td>...</td>\n",
       "      <td>...</td>\n",
       "      <td>...</td>\n",
       "      <td>...</td>\n",
       "      <td>...</td>\n",
       "    </tr>\n",
       "    <tr>\n",
       "      <th>2002</th>\n",
       "      <td>2502</td>\n",
       "      <td>Dog</td>\n",
       "      <td>Poodle</td>\n",
       "      <td>72</td>\n",
       "      <td>Orange</td>\n",
       "      <td>Small</td>\n",
       "      <td>27.039045</td>\n",
       "      <td>1</td>\n",
       "      <td>0</td>\n",
       "      <td>66</td>\n",
       "      <td>26</td>\n",
       "      <td>1</td>\n",
       "      <td>1</td>\n",
       "    </tr>\n",
       "    <tr>\n",
       "      <th>2003</th>\n",
       "      <td>2503</td>\n",
       "      <td>Rabbit</td>\n",
       "      <td>Rabbit</td>\n",
       "      <td>124</td>\n",
       "      <td>Brown</td>\n",
       "      <td>Small</td>\n",
       "      <td>4.726954</td>\n",
       "      <td>1</td>\n",
       "      <td>1</td>\n",
       "      <td>59</td>\n",
       "      <td>150</td>\n",
       "      <td>0</td>\n",
       "      <td>0</td>\n",
       "    </tr>\n",
       "    <tr>\n",
       "      <th>2004</th>\n",
       "      <td>2504</td>\n",
       "      <td>Rabbit</td>\n",
       "      <td>Rabbit</td>\n",
       "      <td>113</td>\n",
       "      <td>Orange</td>\n",
       "      <td>Small</td>\n",
       "      <td>1.758592</td>\n",
       "      <td>1</td>\n",
       "      <td>0</td>\n",
       "      <td>68</td>\n",
       "      <td>302</td>\n",
       "      <td>0</td>\n",
       "      <td>0</td>\n",
       "    </tr>\n",
       "    <tr>\n",
       "      <th>2005</th>\n",
       "      <td>2505</td>\n",
       "      <td>Dog</td>\n",
       "      <td>Labrador</td>\n",
       "      <td>12</td>\n",
       "      <td>Gray</td>\n",
       "      <td>Large</td>\n",
       "      <td>20.961592</td>\n",
       "      <td>1</td>\n",
       "      <td>0</td>\n",
       "      <td>59</td>\n",
       "      <td>478</td>\n",
       "      <td>0</td>\n",
       "      <td>0</td>\n",
       "    </tr>\n",
       "    <tr>\n",
       "      <th>2006</th>\n",
       "      <td>2506</td>\n",
       "      <td>Rabbit</td>\n",
       "      <td>Rabbit</td>\n",
       "      <td>126</td>\n",
       "      <td>White</td>\n",
       "      <td>Medium</td>\n",
       "      <td>18.519788</td>\n",
       "      <td>1</td>\n",
       "      <td>0</td>\n",
       "      <td>10</td>\n",
       "      <td>267</td>\n",
       "      <td>1</td>\n",
       "      <td>0</td>\n",
       "    </tr>\n",
       "  </tbody>\n",
       "</table>\n",
       "<p>2007 rows × 13 columns</p>\n",
       "</div>"
      ],
      "text/plain": [
       "      PetID PetType             Breed  AgeMonths   Color    Size   WeightKg  \\\n",
       "0       500    Bird          Parakeet        131  Orange   Large   5.039768   \n",
       "1       501  Rabbit            Rabbit         73   White   Large  16.086727   \n",
       "2       502     Dog  Golden Retriever        136  Orange  Medium   2.076286   \n",
       "3       503    Bird          Parakeet         97   White   Small   3.339423   \n",
       "4       504  Rabbit            Rabbit        123    Gray   Large  20.498100   \n",
       "...     ...     ...               ...        ...     ...     ...        ...   \n",
       "2002   2502     Dog            Poodle         72  Orange   Small  27.039045   \n",
       "2003   2503  Rabbit            Rabbit        124   Brown   Small   4.726954   \n",
       "2004   2504  Rabbit            Rabbit        113  Orange   Small   1.758592   \n",
       "2005   2505     Dog          Labrador         12    Gray   Large  20.961592   \n",
       "2006   2506  Rabbit            Rabbit        126   White  Medium  18.519788   \n",
       "\n",
       "      Vaccinated  HealthCondition  TimeInShelterDays  AdoptionFee  \\\n",
       "0              1                0                 27          140   \n",
       "1              0                0                  8          235   \n",
       "2              0                0                 85          385   \n",
       "3              0                0                 61          217   \n",
       "4              0                0                 28           14   \n",
       "...          ...              ...                ...          ...   \n",
       "2002           1                0                 66           26   \n",
       "2003           1                1                 59          150   \n",
       "2004           1                0                 68          302   \n",
       "2005           1                0                 59          478   \n",
       "2006           1                0                 10          267   \n",
       "\n",
       "      PreviousOwner  AdoptionLikelihood  \n",
       "0                 0                   0  \n",
       "1                 0                   0  \n",
       "2                 0                   0  \n",
       "3                 1                   0  \n",
       "4                 1                   0  \n",
       "...             ...                 ...  \n",
       "2002              1                   1  \n",
       "2003              0                   0  \n",
       "2004              0                   0  \n",
       "2005              0                   0  \n",
       "2006              1                   0  \n",
       "\n",
       "[2007 rows x 13 columns]"
      ]
     },
     "execution_count": 32,
     "metadata": {},
     "output_type": "execute_result"
    }
   ],
   "source": [
    "data"
   ]
  },
  {
   "cell_type": "code",
   "execution_count": 6,
   "id": "6f12ce25-eab3-4030-b86d-cff43802c01d",
   "metadata": {},
   "outputs": [],
   "source": [
    "categorical_col= data.select_dtypes(include=\"object\")"
   ]
  },
  {
   "cell_type": "code",
   "execution_count": 7,
   "id": "5252166c-f973-4cd7-9048-605e904e542d",
   "metadata": {},
   "outputs": [],
   "source": [
    "numerical_col =data.select_dtypes(include= \"number\")"
   ]
  },
  {
   "cell_type": "code",
   "execution_count": 8,
   "id": "fd13273c-9cea-473b-a172-07306d7c5d86",
   "metadata": {},
   "outputs": [
    {
     "data": {
      "text/html": [
       "<div>\n",
       "<style scoped>\n",
       "    .dataframe tbody tr th:only-of-type {\n",
       "        vertical-align: middle;\n",
       "    }\n",
       "\n",
       "    .dataframe tbody tr th {\n",
       "        vertical-align: top;\n",
       "    }\n",
       "\n",
       "    .dataframe thead th {\n",
       "        text-align: right;\n",
       "    }\n",
       "</style>\n",
       "<table border=\"1\" class=\"dataframe\">\n",
       "  <thead>\n",
       "    <tr style=\"text-align: right;\">\n",
       "      <th></th>\n",
       "      <th>PetType</th>\n",
       "      <th>Breed</th>\n",
       "      <th>Color</th>\n",
       "      <th>Size</th>\n",
       "    </tr>\n",
       "  </thead>\n",
       "  <tbody>\n",
       "    <tr>\n",
       "      <th>0</th>\n",
       "      <td>Bird</td>\n",
       "      <td>Parakeet</td>\n",
       "      <td>Orange</td>\n",
       "      <td>Large</td>\n",
       "    </tr>\n",
       "    <tr>\n",
       "      <th>1</th>\n",
       "      <td>Rabbit</td>\n",
       "      <td>Rabbit</td>\n",
       "      <td>White</td>\n",
       "      <td>Large</td>\n",
       "    </tr>\n",
       "    <tr>\n",
       "      <th>2</th>\n",
       "      <td>Dog</td>\n",
       "      <td>Golden Retriever</td>\n",
       "      <td>Orange</td>\n",
       "      <td>Medium</td>\n",
       "    </tr>\n",
       "    <tr>\n",
       "      <th>3</th>\n",
       "      <td>Bird</td>\n",
       "      <td>Parakeet</td>\n",
       "      <td>White</td>\n",
       "      <td>Small</td>\n",
       "    </tr>\n",
       "    <tr>\n",
       "      <th>4</th>\n",
       "      <td>Rabbit</td>\n",
       "      <td>Rabbit</td>\n",
       "      <td>Gray</td>\n",
       "      <td>Large</td>\n",
       "    </tr>\n",
       "    <tr>\n",
       "      <th>...</th>\n",
       "      <td>...</td>\n",
       "      <td>...</td>\n",
       "      <td>...</td>\n",
       "      <td>...</td>\n",
       "    </tr>\n",
       "    <tr>\n",
       "      <th>2002</th>\n",
       "      <td>Dog</td>\n",
       "      <td>Poodle</td>\n",
       "      <td>Orange</td>\n",
       "      <td>Small</td>\n",
       "    </tr>\n",
       "    <tr>\n",
       "      <th>2003</th>\n",
       "      <td>Rabbit</td>\n",
       "      <td>Rabbit</td>\n",
       "      <td>Brown</td>\n",
       "      <td>Small</td>\n",
       "    </tr>\n",
       "    <tr>\n",
       "      <th>2004</th>\n",
       "      <td>Rabbit</td>\n",
       "      <td>Rabbit</td>\n",
       "      <td>Orange</td>\n",
       "      <td>Small</td>\n",
       "    </tr>\n",
       "    <tr>\n",
       "      <th>2005</th>\n",
       "      <td>Dog</td>\n",
       "      <td>Labrador</td>\n",
       "      <td>Gray</td>\n",
       "      <td>Large</td>\n",
       "    </tr>\n",
       "    <tr>\n",
       "      <th>2006</th>\n",
       "      <td>Rabbit</td>\n",
       "      <td>Rabbit</td>\n",
       "      <td>White</td>\n",
       "      <td>Medium</td>\n",
       "    </tr>\n",
       "  </tbody>\n",
       "</table>\n",
       "<p>2007 rows × 4 columns</p>\n",
       "</div>"
      ],
      "text/plain": [
       "     PetType             Breed   Color    Size\n",
       "0       Bird          Parakeet  Orange   Large\n",
       "1     Rabbit            Rabbit   White   Large\n",
       "2        Dog  Golden Retriever  Orange  Medium\n",
       "3       Bird          Parakeet   White   Small\n",
       "4     Rabbit            Rabbit    Gray   Large\n",
       "...      ...               ...     ...     ...\n",
       "2002     Dog            Poodle  Orange   Small\n",
       "2003  Rabbit            Rabbit   Brown   Small\n",
       "2004  Rabbit            Rabbit  Orange   Small\n",
       "2005     Dog          Labrador    Gray   Large\n",
       "2006  Rabbit            Rabbit   White  Medium\n",
       "\n",
       "[2007 rows x 4 columns]"
      ]
     },
     "execution_count": 8,
     "metadata": {},
     "output_type": "execute_result"
    }
   ],
   "source": [
    "categorical_col"
   ]
  },
  {
   "cell_type": "code",
   "execution_count": 9,
   "id": "2c954fc3-f548-411c-ad16-bf1c2be26dbf",
   "metadata": {},
   "outputs": [
    {
     "data": {
      "text/html": [
       "<div>\n",
       "<style scoped>\n",
       "    .dataframe tbody tr th:only-of-type {\n",
       "        vertical-align: middle;\n",
       "    }\n",
       "\n",
       "    .dataframe tbody tr th {\n",
       "        vertical-align: top;\n",
       "    }\n",
       "\n",
       "    .dataframe thead th {\n",
       "        text-align: right;\n",
       "    }\n",
       "</style>\n",
       "<table border=\"1\" class=\"dataframe\">\n",
       "  <thead>\n",
       "    <tr style=\"text-align: right;\">\n",
       "      <th></th>\n",
       "      <th>PetID</th>\n",
       "      <th>AgeMonths</th>\n",
       "      <th>WeightKg</th>\n",
       "      <th>Vaccinated</th>\n",
       "      <th>HealthCondition</th>\n",
       "      <th>TimeInShelterDays</th>\n",
       "      <th>AdoptionFee</th>\n",
       "      <th>PreviousOwner</th>\n",
       "      <th>AdoptionLikelihood</th>\n",
       "    </tr>\n",
       "  </thead>\n",
       "  <tbody>\n",
       "    <tr>\n",
       "      <th>0</th>\n",
       "      <td>500</td>\n",
       "      <td>131</td>\n",
       "      <td>5.039768</td>\n",
       "      <td>1</td>\n",
       "      <td>0</td>\n",
       "      <td>27</td>\n",
       "      <td>140</td>\n",
       "      <td>0</td>\n",
       "      <td>0</td>\n",
       "    </tr>\n",
       "    <tr>\n",
       "      <th>1</th>\n",
       "      <td>501</td>\n",
       "      <td>73</td>\n",
       "      <td>16.086727</td>\n",
       "      <td>0</td>\n",
       "      <td>0</td>\n",
       "      <td>8</td>\n",
       "      <td>235</td>\n",
       "      <td>0</td>\n",
       "      <td>0</td>\n",
       "    </tr>\n",
       "    <tr>\n",
       "      <th>2</th>\n",
       "      <td>502</td>\n",
       "      <td>136</td>\n",
       "      <td>2.076286</td>\n",
       "      <td>0</td>\n",
       "      <td>0</td>\n",
       "      <td>85</td>\n",
       "      <td>385</td>\n",
       "      <td>0</td>\n",
       "      <td>0</td>\n",
       "    </tr>\n",
       "    <tr>\n",
       "      <th>3</th>\n",
       "      <td>503</td>\n",
       "      <td>97</td>\n",
       "      <td>3.339423</td>\n",
       "      <td>0</td>\n",
       "      <td>0</td>\n",
       "      <td>61</td>\n",
       "      <td>217</td>\n",
       "      <td>1</td>\n",
       "      <td>0</td>\n",
       "    </tr>\n",
       "    <tr>\n",
       "      <th>4</th>\n",
       "      <td>504</td>\n",
       "      <td>123</td>\n",
       "      <td>20.498100</td>\n",
       "      <td>0</td>\n",
       "      <td>0</td>\n",
       "      <td>28</td>\n",
       "      <td>14</td>\n",
       "      <td>1</td>\n",
       "      <td>0</td>\n",
       "    </tr>\n",
       "    <tr>\n",
       "      <th>...</th>\n",
       "      <td>...</td>\n",
       "      <td>...</td>\n",
       "      <td>...</td>\n",
       "      <td>...</td>\n",
       "      <td>...</td>\n",
       "      <td>...</td>\n",
       "      <td>...</td>\n",
       "      <td>...</td>\n",
       "      <td>...</td>\n",
       "    </tr>\n",
       "    <tr>\n",
       "      <th>2002</th>\n",
       "      <td>2502</td>\n",
       "      <td>72</td>\n",
       "      <td>27.039045</td>\n",
       "      <td>1</td>\n",
       "      <td>0</td>\n",
       "      <td>66</td>\n",
       "      <td>26</td>\n",
       "      <td>1</td>\n",
       "      <td>1</td>\n",
       "    </tr>\n",
       "    <tr>\n",
       "      <th>2003</th>\n",
       "      <td>2503</td>\n",
       "      <td>124</td>\n",
       "      <td>4.726954</td>\n",
       "      <td>1</td>\n",
       "      <td>1</td>\n",
       "      <td>59</td>\n",
       "      <td>150</td>\n",
       "      <td>0</td>\n",
       "      <td>0</td>\n",
       "    </tr>\n",
       "    <tr>\n",
       "      <th>2004</th>\n",
       "      <td>2504</td>\n",
       "      <td>113</td>\n",
       "      <td>1.758592</td>\n",
       "      <td>1</td>\n",
       "      <td>0</td>\n",
       "      <td>68</td>\n",
       "      <td>302</td>\n",
       "      <td>0</td>\n",
       "      <td>0</td>\n",
       "    </tr>\n",
       "    <tr>\n",
       "      <th>2005</th>\n",
       "      <td>2505</td>\n",
       "      <td>12</td>\n",
       "      <td>20.961592</td>\n",
       "      <td>1</td>\n",
       "      <td>0</td>\n",
       "      <td>59</td>\n",
       "      <td>478</td>\n",
       "      <td>0</td>\n",
       "      <td>0</td>\n",
       "    </tr>\n",
       "    <tr>\n",
       "      <th>2006</th>\n",
       "      <td>2506</td>\n",
       "      <td>126</td>\n",
       "      <td>18.519788</td>\n",
       "      <td>1</td>\n",
       "      <td>0</td>\n",
       "      <td>10</td>\n",
       "      <td>267</td>\n",
       "      <td>1</td>\n",
       "      <td>0</td>\n",
       "    </tr>\n",
       "  </tbody>\n",
       "</table>\n",
       "<p>2007 rows × 9 columns</p>\n",
       "</div>"
      ],
      "text/plain": [
       "      PetID  AgeMonths   WeightKg  Vaccinated  HealthCondition  \\\n",
       "0       500        131   5.039768           1                0   \n",
       "1       501         73  16.086727           0                0   \n",
       "2       502        136   2.076286           0                0   \n",
       "3       503         97   3.339423           0                0   \n",
       "4       504        123  20.498100           0                0   \n",
       "...     ...        ...        ...         ...              ...   \n",
       "2002   2502         72  27.039045           1                0   \n",
       "2003   2503        124   4.726954           1                1   \n",
       "2004   2504        113   1.758592           1                0   \n",
       "2005   2505         12  20.961592           1                0   \n",
       "2006   2506        126  18.519788           1                0   \n",
       "\n",
       "      TimeInShelterDays  AdoptionFee  PreviousOwner  AdoptionLikelihood  \n",
       "0                    27          140              0                   0  \n",
       "1                     8          235              0                   0  \n",
       "2                    85          385              0                   0  \n",
       "3                    61          217              1                   0  \n",
       "4                    28           14              1                   0  \n",
       "...                 ...          ...            ...                 ...  \n",
       "2002                 66           26              1                   1  \n",
       "2003                 59          150              0                   0  \n",
       "2004                 68          302              0                   0  \n",
       "2005                 59          478              0                   0  \n",
       "2006                 10          267              1                   0  \n",
       "\n",
       "[2007 rows x 9 columns]"
      ]
     },
     "execution_count": 9,
     "metadata": {},
     "output_type": "execute_result"
    }
   ],
   "source": [
    "numerical_col"
   ]
  },
  {
   "cell_type": "markdown",
   "id": "5f709580-1ef4-425d-bb92-0f9c3b780752",
   "metadata": {},
   "source": [
    "## DATA LIBRARY\n",
    "PetID: Unique identifier for each pet.\r\n",
    "PetType: Type of pet (e.g., Dog, Cat, Bird, Rabbit).\r\n",
    "Breed: Specific breed of the pet.\r\n",
    "AgeMonths: Age of the pet in months.\r\n",
    "Color: Color of the pet.\r\n",
    "Size: Size category of the pet (Small, Medium, Large).\r\n",
    "WeightKg: Weight of the pet in kilograms.\r\n",
    "Vaccinated: Vaccination status of the pet (0 - Not vaccinated, 1 - Vaccinated).\r\n",
    "HealthCondition: Health condition of the pet (0 - Healthy, 1 - Medical condition).\r\n",
    "TimeInShelterDays: Duration the pet has been in the shelter (days).\r\n",
    "AdoptionFee: Adoption fee charged for the pet (in dollars).\r\n",
    "PreviousOwner: Whether the pet had a previous owner (0 - No, 1 - Yes).\r\n",
    "AdoptionLikelihood: Likelihood of the pet being adopted (0 - Unlikely, 1 - Likely)."
   ]
  },
  {
   "cell_type": "code",
   "execution_count": 4,
   "id": "585f2d0d-ca89-473e-8933-86abf9a743d8",
   "metadata": {},
   "outputs": [
    {
     "data": {
      "text/plain": [
       "Index(['PetID', 'PetType', 'Breed', 'AgeMonths', 'Color', 'Size', 'WeightKg',\n",
       "       'Vaccinated', 'HealthCondition', 'TimeInShelterDays', 'AdoptionFee',\n",
       "       'PreviousOwner', 'AdoptionLikelihood'],\n",
       "      dtype='object')"
      ]
     },
     "execution_count": 4,
     "metadata": {},
     "output_type": "execute_result"
    }
   ],
   "source": [
    "data.columns"
   ]
  },
  {
   "cell_type": "code",
   "execution_count": 5,
   "id": "607ae63b-48d8-488a-8a1c-e2ad5481b5cc",
   "metadata": {},
   "outputs": [
    {
     "name": "stdout",
     "output_type": "stream",
     "text": [
      "<class 'pandas.core.frame.DataFrame'>\n",
      "RangeIndex: 2007 entries, 0 to 2006\n",
      "Data columns (total 13 columns):\n",
      " #   Column              Non-Null Count  Dtype  \n",
      "---  ------              --------------  -----  \n",
      " 0   PetID               2007 non-null   int64  \n",
      " 1   PetType             2007 non-null   object \n",
      " 2   Breed               2007 non-null   object \n",
      " 3   AgeMonths           2007 non-null   int64  \n",
      " 4   Color               2007 non-null   object \n",
      " 5   Size                2007 non-null   object \n",
      " 6   WeightKg            2007 non-null   float64\n",
      " 7   Vaccinated          2007 non-null   int64  \n",
      " 8   HealthCondition     2007 non-null   int64  \n",
      " 9   TimeInShelterDays   2007 non-null   int64  \n",
      " 10  AdoptionFee         2007 non-null   int64  \n",
      " 11  PreviousOwner       2007 non-null   int64  \n",
      " 12  AdoptionLikelihood  2007 non-null   int64  \n",
      "dtypes: float64(1), int64(8), object(4)\n",
      "memory usage: 204.0+ KB\n"
     ]
    }
   ],
   "source": [
    "data.info()"
   ]
  },
  {
   "cell_type": "code",
   "execution_count": 6,
   "id": "579b0540-3471-4876-a745-b86c04bd5d8a",
   "metadata": {},
   "outputs": [
    {
     "data": {
      "text/html": [
       "<div>\n",
       "<style scoped>\n",
       "    .dataframe tbody tr th:only-of-type {\n",
       "        vertical-align: middle;\n",
       "    }\n",
       "\n",
       "    .dataframe tbody tr th {\n",
       "        vertical-align: top;\n",
       "    }\n",
       "\n",
       "    .dataframe thead th {\n",
       "        text-align: right;\n",
       "    }\n",
       "</style>\n",
       "<table border=\"1\" class=\"dataframe\">\n",
       "  <thead>\n",
       "    <tr style=\"text-align: right;\">\n",
       "      <th></th>\n",
       "      <th>PetID</th>\n",
       "      <th>AgeMonths</th>\n",
       "      <th>WeightKg</th>\n",
       "      <th>Vaccinated</th>\n",
       "      <th>HealthCondition</th>\n",
       "      <th>TimeInShelterDays</th>\n",
       "      <th>AdoptionFee</th>\n",
       "      <th>PreviousOwner</th>\n",
       "      <th>AdoptionLikelihood</th>\n",
       "    </tr>\n",
       "  </thead>\n",
       "  <tbody>\n",
       "    <tr>\n",
       "      <th>count</th>\n",
       "      <td>2007.000000</td>\n",
       "      <td>2007.000000</td>\n",
       "      <td>2007.000000</td>\n",
       "      <td>2007.000000</td>\n",
       "      <td>2007.000000</td>\n",
       "      <td>2007.000000</td>\n",
       "      <td>2007.000000</td>\n",
       "      <td>2007.000000</td>\n",
       "      <td>2007.000000</td>\n",
       "    </tr>\n",
       "    <tr>\n",
       "      <th>mean</th>\n",
       "      <td>1503.000000</td>\n",
       "      <td>92.279522</td>\n",
       "      <td>15.705776</td>\n",
       "      <td>0.701046</td>\n",
       "      <td>0.196313</td>\n",
       "      <td>43.974091</td>\n",
       "      <td>249.142003</td>\n",
       "      <td>0.301943</td>\n",
       "      <td>0.328351</td>\n",
       "    </tr>\n",
       "    <tr>\n",
       "      <th>std</th>\n",
       "      <td>579.515315</td>\n",
       "      <td>52.148363</td>\n",
       "      <td>8.327749</td>\n",
       "      <td>0.457914</td>\n",
       "      <td>0.397307</td>\n",
       "      <td>25.740253</td>\n",
       "      <td>142.887040</td>\n",
       "      <td>0.459215</td>\n",
       "      <td>0.469730</td>\n",
       "    </tr>\n",
       "    <tr>\n",
       "      <th>min</th>\n",
       "      <td>500.000000</td>\n",
       "      <td>1.000000</td>\n",
       "      <td>1.018198</td>\n",
       "      <td>0.000000</td>\n",
       "      <td>0.000000</td>\n",
       "      <td>1.000000</td>\n",
       "      <td>0.000000</td>\n",
       "      <td>0.000000</td>\n",
       "      <td>0.000000</td>\n",
       "    </tr>\n",
       "    <tr>\n",
       "      <th>25%</th>\n",
       "      <td>1001.500000</td>\n",
       "      <td>48.000000</td>\n",
       "      <td>8.730396</td>\n",
       "      <td>0.000000</td>\n",
       "      <td>0.000000</td>\n",
       "      <td>21.000000</td>\n",
       "      <td>127.000000</td>\n",
       "      <td>0.000000</td>\n",
       "      <td>0.000000</td>\n",
       "    </tr>\n",
       "    <tr>\n",
       "      <th>50%</th>\n",
       "      <td>1503.000000</td>\n",
       "      <td>94.000000</td>\n",
       "      <td>15.925416</td>\n",
       "      <td>1.000000</td>\n",
       "      <td>0.000000</td>\n",
       "      <td>45.000000</td>\n",
       "      <td>242.000000</td>\n",
       "      <td>0.000000</td>\n",
       "      <td>0.000000</td>\n",
       "    </tr>\n",
       "    <tr>\n",
       "      <th>75%</th>\n",
       "      <td>2004.500000</td>\n",
       "      <td>138.000000</td>\n",
       "      <td>22.737180</td>\n",
       "      <td>1.000000</td>\n",
       "      <td>0.000000</td>\n",
       "      <td>66.000000</td>\n",
       "      <td>375.000000</td>\n",
       "      <td>1.000000</td>\n",
       "      <td>1.000000</td>\n",
       "    </tr>\n",
       "    <tr>\n",
       "      <th>max</th>\n",
       "      <td>2506.000000</td>\n",
       "      <td>179.000000</td>\n",
       "      <td>29.995628</td>\n",
       "      <td>1.000000</td>\n",
       "      <td>1.000000</td>\n",
       "      <td>89.000000</td>\n",
       "      <td>499.000000</td>\n",
       "      <td>1.000000</td>\n",
       "      <td>1.000000</td>\n",
       "    </tr>\n",
       "  </tbody>\n",
       "</table>\n",
       "</div>"
      ],
      "text/plain": [
       "             PetID    AgeMonths     WeightKg   Vaccinated  HealthCondition  \\\n",
       "count  2007.000000  2007.000000  2007.000000  2007.000000      2007.000000   \n",
       "mean   1503.000000    92.279522    15.705776     0.701046         0.196313   \n",
       "std     579.515315    52.148363     8.327749     0.457914         0.397307   \n",
       "min     500.000000     1.000000     1.018198     0.000000         0.000000   \n",
       "25%    1001.500000    48.000000     8.730396     0.000000         0.000000   \n",
       "50%    1503.000000    94.000000    15.925416     1.000000         0.000000   \n",
       "75%    2004.500000   138.000000    22.737180     1.000000         0.000000   \n",
       "max    2506.000000   179.000000    29.995628     1.000000         1.000000   \n",
       "\n",
       "       TimeInShelterDays  AdoptionFee  PreviousOwner  AdoptionLikelihood  \n",
       "count        2007.000000  2007.000000    2007.000000         2007.000000  \n",
       "mean           43.974091   249.142003       0.301943            0.328351  \n",
       "std            25.740253   142.887040       0.459215            0.469730  \n",
       "min             1.000000     0.000000       0.000000            0.000000  \n",
       "25%            21.000000   127.000000       0.000000            0.000000  \n",
       "50%            45.000000   242.000000       0.000000            0.000000  \n",
       "75%            66.000000   375.000000       1.000000            1.000000  \n",
       "max            89.000000   499.000000       1.000000            1.000000  "
      ]
     },
     "execution_count": 6,
     "metadata": {},
     "output_type": "execute_result"
    }
   ],
   "source": [
    "data.describe()"
   ]
  },
  {
   "cell_type": "code",
   "execution_count": 7,
   "id": "acc611a9-5e18-4361-9fd8-6dc4d08cee4d",
   "metadata": {},
   "outputs": [
    {
     "data": {
      "text/plain": [
       "PetID                 0\n",
       "PetType               0\n",
       "Breed                 0\n",
       "AgeMonths             0\n",
       "Color                 0\n",
       "Size                  0\n",
       "WeightKg              0\n",
       "Vaccinated            0\n",
       "HealthCondition       0\n",
       "TimeInShelterDays     0\n",
       "AdoptionFee           0\n",
       "PreviousOwner         0\n",
       "AdoptionLikelihood    0\n",
       "dtype: int64"
      ]
     },
     "execution_count": 7,
     "metadata": {},
     "output_type": "execute_result"
    }
   ],
   "source": [
    "data.isna().sum()"
   ]
  },
  {
   "cell_type": "code",
   "execution_count": null,
   "id": "1dd9b158-9c82-4d12-9ea0-32934f116d79",
   "metadata": {},
   "outputs": [],
   "source": []
  },
  {
   "cell_type": "code",
   "execution_count": 8,
   "id": "88b9d7fc-1438-4aa8-a39c-8e11f4c636da",
   "metadata": {},
   "outputs": [
    {
     "data": {
      "text/plain": [
       "<Axes: >"
      ]
     },
     "execution_count": 8,
     "metadata": {},
     "output_type": "execute_result"
    },
    {
     "data": {
      "image/png": "[encoded data removed]",
      "text/plain": [
       "<Figure size 640x480 with 2 Axes>"
      ]
     },
     "metadata": {},
     "output_type": "display_data"
    }
   ],
   "source": [
    "sns.heatmap(data.isnull(),cbar=True,cmap=\"Blues_r\")"
   ]
  },
  {
   "cell_type": "code",
   "execution_count": 9,
   "id": "5c62198b-e4ae-44bc-b237-0949dc18b91f",
   "metadata": {},
   "outputs": [
    {
     "data": {
      "text/plain": [
       "<Axes: xlabel='PetID'>"
      ]
     },
     "execution_count": 9,
     "metadata": {},
     "output_type": "execute_result"
    },
    {
     "data": {
      "image/png": "[encoded data removed]",
      "text/plain": [
       "<Figure size 640x480 with 1 Axes>"
      ]
     },
     "metadata": {},
     "output_type": "display_data"
    }
   ],
   "source": [
    "sns.boxplot(x=data[\"PetID\"])"
   ]
  },
  {
   "cell_type": "code",
   "execution_count": 10,
   "id": "87b65b33-3bed-48b6-9ea2-119e33736df0",
   "metadata": {},
   "outputs": [
    {
     "data": {
      "text/plain": [
       "<Axes: xlabel='AgeMonths'>"
      ]
     },
     "execution_count": 10,
     "metadata": {},
     "output_type": "execute_result"
    },
    {
     "data": {
      "image/png": "[encoded data removed]",
      "text/plain": [
       "<Figure size 640x480 with 1 Axes>"
      ]
     },
     "metadata": {},
     "output_type": "display_data"
    }
   ],
   "source": [
    "sns.boxplot(x=data[\"AgeMonths\"])"
   ]
  },
  {
   "cell_type": "code",
   "execution_count": 11,
   "id": "d182c867-50dd-4899-bf3d-4bfc875d2014",
   "metadata": {},
   "outputs": [
    {
     "data": {
      "text/plain": [
       "<Axes: xlabel='WeightKg'>"
      ]
     },
     "execution_count": 11,
     "metadata": {},
     "output_type": "execute_result"
    },
    {
     "data": {
      "image/png": "[encoded data removed]",
      "text/plain": [
       "<Figure size 640x480 with 1 Axes>"
      ]
     },
     "metadata": {},
     "output_type": "display_data"
    }
   ],
   "source": [
    "sns.boxplot(x=data[\"WeightKg\"])"
   ]
  },
  {
   "cell_type": "code",
   "execution_count": 12,
   "id": "8ea7046d-c4a1-4f0c-a6e8-d0d581b37b3e",
   "metadata": {},
   "outputs": [
    {
     "data": {
      "text/plain": [
       "<Axes: xlabel='Vaccinated'>"
      ]
     },
     "execution_count": 12,
     "metadata": {},
     "output_type": "execute_result"
    },
    {
     "data": {
      "image/png": "[encoded data removed]",
      "text/plain": [
       "<Figure size 640x480 with 1 Axes>"
      ]
     },
     "metadata": {},
     "output_type": "display_data"
    }
   ],
   "source": [
    "sns.boxplot(x=data[\"Vaccinated\"])"
   ]
  },
  {
   "cell_type": "code",
   "execution_count": 13,
   "id": "b56005f1-ca5a-4b77-bfdd-0682b2092846",
   "metadata": {},
   "outputs": [
    {
     "data": {
      "text/plain": [
       "<Axes: xlabel='HealthCondition'>"
      ]
     },
     "execution_count": 13,
     "metadata": {},
     "output_type": "execute_result"
    },
    {
     "data": {
      "image/png": "[encoded data removed]",
      "text/plain": [
       "<Figure size 640x480 with 1 Axes>"
      ]
     },
     "metadata": {},
     "output_type": "display_data"
    }
   ],
   "source": [
    "sns.boxplot(x=data[\"HealthCondition\"])"
   ]
  },
  {
   "cell_type": "code",
   "execution_count": 14,
   "id": "454c98c2-fc41-49d0-8ea8-42f027f9f4cb",
   "metadata": {},
   "outputs": [
    {
     "data": {
      "text/plain": [
       "<Axes: xlabel='TimeInShelterDays'>"
      ]
     },
     "execution_count": 14,
     "metadata": {},
     "output_type": "execute_result"
    },
    {
     "data": {
      "image/png": "[encoded data removed]",
      "text/plain": [
       "<Figure size 640x480 with 1 Axes>"
      ]
     },
     "metadata": {},
     "output_type": "display_data"
    }
   ],
   "source": [
    "sns.boxplot(x=data[\"TimeInShelterDays\"])"
   ]
  },
  {
   "cell_type": "code",
   "execution_count": 15,
   "id": "f955d4be-3b9f-4679-9e28-f9e59d505660",
   "metadata": {},
   "outputs": [
    {
     "data": {
      "text/plain": [
       "<Axes: xlabel='AdoptionFee'>"
      ]
     },
     "execution_count": 15,
     "metadata": {},
     "output_type": "execute_result"
    },
    {
     "data": {
      "image/png": "[encoded data removed]",
      "text/plain": [
       "<Figure size 640x480 with 1 Axes>"
      ]
     },
     "metadata": {},
     "output_type": "display_data"
    }
   ],
   "source": [
    "sns.boxplot(x=data[\"AdoptionFee\"])"
   ]
  },
  {
   "cell_type": "code",
   "execution_count": 16,
   "id": "aa801430-e850-4169-8874-aa25c00143be",
   "metadata": {},
   "outputs": [
    {
     "data": {
      "text/plain": [
       "<Axes: xlabel='PreviousOwner'>"
      ]
     },
     "execution_count": 16,
     "metadata": {},
     "output_type": "execute_result"
    },
    {
     "data": {
      "image/png": "[encoded data removed]",
      "text/plain": [
       "<Figure size 640x480 with 1 Axes>"
      ]
     },
     "metadata": {},
     "output_type": "display_data"
    }
   ],
   "source": [
    "sns.boxplot(x=data[\"PreviousOwner\"])"
   ]
  },
  {
   "cell_type": "code",
   "execution_count": 17,
   "id": "60ef9148-6782-46a1-a0b3-3107b0f8e724",
   "metadata": {},
   "outputs": [
    {
     "data": {
      "text/plain": [
       "<Axes: xlabel='AdoptionLikelihood'>"
      ]
     },
     "execution_count": 17,
     "metadata": {},
     "output_type": "execute_result"
    },
    {
     "data": {
      "image/png": "[encoded data removed]",
      "text/plain": [
       "<Figure size 640x480 with 1 Axes>"
      ]
     },
     "metadata": {},
     "output_type": "display_data"
    }
   ],
   "source": [
    "sns.boxplot(x=data[\"AdoptionLikelihood\"])"
   ]
  },
  {
   "cell_type": "code",
   "execution_count": 18,
   "id": "caca2ef6-7be0-4cd6-a8c9-12b02c839a6c",
   "metadata": {},
   "outputs": [],
   "source": [
    "numerical_cols=data.select_dtypes(include=[\"number\"])\n",
    "categorical_cols=data.select_dtypes(include=[\"object\"])"
   ]
  },
  {
   "cell_type": "code",
   "execution_count": 19,
   "id": "2391da86-e803-4cfd-9153-0d47be103534",
   "metadata": {},
   "outputs": [],
   "source": [
    "categorical_cols[\"AdoptionLikelihood\"]=data[\"AdoptionLikelihood\"]"
   ]
  },
  {
   "cell_type": "code",
   "execution_count": 20,
   "id": "60bef5f8-89a2-4a1a-bc2d-1053eaf5bb6e",
   "metadata": {},
   "outputs": [
    {
     "data": {
      "text/html": [
       "<div>\n",
       "<style scoped>\n",
       "    .dataframe tbody tr th:only-of-type {\n",
       "        vertical-align: middle;\n",
       "    }\n",
       "\n",
       "    .dataframe tbody tr th {\n",
       "        vertical-align: top;\n",
       "    }\n",
       "\n",
       "    .dataframe thead th {\n",
       "        text-align: right;\n",
       "    }\n",
       "</style>\n",
       "<table border=\"1\" class=\"dataframe\">\n",
       "  <thead>\n",
       "    <tr style=\"text-align: right;\">\n",
       "      <th></th>\n",
       "      <th>PetType</th>\n",
       "      <th>Breed</th>\n",
       "      <th>Color</th>\n",
       "      <th>Size</th>\n",
       "      <th>AdoptionLikelihood</th>\n",
       "    </tr>\n",
       "  </thead>\n",
       "  <tbody>\n",
       "    <tr>\n",
       "      <th>0</th>\n",
       "      <td>Bird</td>\n",
       "      <td>Parakeet</td>\n",
       "      <td>Orange</td>\n",
       "      <td>Large</td>\n",
       "      <td>0</td>\n",
       "    </tr>\n",
       "    <tr>\n",
       "      <th>1</th>\n",
       "      <td>Rabbit</td>\n",
       "      <td>Rabbit</td>\n",
       "      <td>White</td>\n",
       "      <td>Large</td>\n",
       "      <td>0</td>\n",
       "    </tr>\n",
       "    <tr>\n",
       "      <th>2</th>\n",
       "      <td>Dog</td>\n",
       "      <td>Golden Retriever</td>\n",
       "      <td>Orange</td>\n",
       "      <td>Medium</td>\n",
       "      <td>0</td>\n",
       "    </tr>\n",
       "    <tr>\n",
       "      <th>3</th>\n",
       "      <td>Bird</td>\n",
       "      <td>Parakeet</td>\n",
       "      <td>White</td>\n",
       "      <td>Small</td>\n",
       "      <td>0</td>\n",
       "    </tr>\n",
       "    <tr>\n",
       "      <th>4</th>\n",
       "      <td>Rabbit</td>\n",
       "      <td>Rabbit</td>\n",
       "      <td>Gray</td>\n",
       "      <td>Large</td>\n",
       "      <td>0</td>\n",
       "    </tr>\n",
       "    <tr>\n",
       "      <th>...</th>\n",
       "      <td>...</td>\n",
       "      <td>...</td>\n",
       "      <td>...</td>\n",
       "      <td>...</td>\n",
       "      <td>...</td>\n",
       "    </tr>\n",
       "    <tr>\n",
       "      <th>2002</th>\n",
       "      <td>Dog</td>\n",
       "      <td>Poodle</td>\n",
       "      <td>Orange</td>\n",
       "      <td>Small</td>\n",
       "      <td>1</td>\n",
       "    </tr>\n",
       "    <tr>\n",
       "      <th>2003</th>\n",
       "      <td>Rabbit</td>\n",
       "      <td>Rabbit</td>\n",
       "      <td>Brown</td>\n",
       "      <td>Small</td>\n",
       "      <td>0</td>\n",
       "    </tr>\n",
       "    <tr>\n",
       "      <th>2004</th>\n",
       "      <td>Rabbit</td>\n",
       "      <td>Rabbit</td>\n",
       "      <td>Orange</td>\n",
       "      <td>Small</td>\n",
       "      <td>0</td>\n",
       "    </tr>\n",
       "    <tr>\n",
       "      <th>2005</th>\n",
       "      <td>Dog</td>\n",
       "      <td>Labrador</td>\n",
       "      <td>Gray</td>\n",
       "      <td>Large</td>\n",
       "      <td>0</td>\n",
       "    </tr>\n",
       "    <tr>\n",
       "      <th>2006</th>\n",
       "      <td>Rabbit</td>\n",
       "      <td>Rabbit</td>\n",
       "      <td>White</td>\n",
       "      <td>Medium</td>\n",
       "      <td>0</td>\n",
       "    </tr>\n",
       "  </tbody>\n",
       "</table>\n",
       "<p>2007 rows × 5 columns</p>\n",
       "</div>"
      ],
      "text/plain": [
       "     PetType             Breed   Color    Size  AdoptionLikelihood\n",
       "0       Bird          Parakeet  Orange   Large                   0\n",
       "1     Rabbit            Rabbit   White   Large                   0\n",
       "2        Dog  Golden Retriever  Orange  Medium                   0\n",
       "3       Bird          Parakeet   White   Small                   0\n",
       "4     Rabbit            Rabbit    Gray   Large                   0\n",
       "...      ...               ...     ...     ...                 ...\n",
       "2002     Dog            Poodle  Orange   Small                   1\n",
       "2003  Rabbit            Rabbit   Brown   Small                   0\n",
       "2004  Rabbit            Rabbit  Orange   Small                   0\n",
       "2005     Dog          Labrador    Gray   Large                   0\n",
       "2006  Rabbit            Rabbit   White  Medium                   0\n",
       "\n",
       "[2007 rows x 5 columns]"
      ]
     },
     "execution_count": 20,
     "metadata": {},
     "output_type": "execute_result"
    }
   ],
   "source": [
    "categorical_cols"
   ]
  },
  {
   "cell_type": "code",
   "execution_count": 21,
   "id": "41fb9191-0f12-4728-8e50-30f7588af729",
   "metadata": {},
   "outputs": [
    {
     "name": "stdout",
     "output_type": "stream",
     "text": [
      "Breed\n",
      "Rabbit              493\n",
      "Parakeet            487\n",
      "Siamese             253\n",
      "Persian             252\n",
      "Labrador            193\n",
      "Poodle              167\n",
      "Golden Retriever    162\n",
      "Name: count, dtype: int64\n"
     ]
    }
   ],
   "source": [
    "print(data['Breed'].value_counts())"
   ]
  },
  {
   "cell_type": "code",
   "execution_count": 22,
   "id": "699dd5e1-ec13-4cc0-8fe8-6c2b038bb5f4",
   "metadata": {},
   "outputs": [
    {
     "name": "stdout",
     "output_type": "stream",
     "text": [
      "PetType\n",
      "Dog       522\n",
      "Cat       505\n",
      "Rabbit    493\n",
      "Bird      487\n",
      "Name: count, dtype: int64\n"
     ]
    }
   ],
   "source": [
    "print(data['PetType'].value_counts())"
   ]
  },
  {
   "cell_type": "code",
   "execution_count": 23,
   "id": "5c5ac188-e435-485a-9d47-09a4d0b47df2",
   "metadata": {},
   "outputs": [
    {
     "name": "stdout",
     "output_type": "stream",
     "text": [
      "Color\n",
      "White     420\n",
      "Orange    409\n",
      "Gray      400\n",
      "Black     395\n",
      "Brown     383\n",
      "Name: count, dtype: int64\n"
     ]
    }
   ],
   "source": [
    "print(data['Color'].value_counts())"
   ]
  },
  {
   "cell_type": "code",
   "execution_count": 24,
   "id": "9ef373c6-d1dc-4a46-96ec-cbcb2584a674",
   "metadata": {},
   "outputs": [
    {
     "name": "stdout",
     "output_type": "stream",
     "text": [
      "Size\n",
      "Medium    714\n",
      "Small     663\n",
      "Large     630\n",
      "Name: count, dtype: int64\n"
     ]
    }
   ],
   "source": [
    "print(data['Size'].value_counts())"
   ]
  },
  {
   "cell_type": "code",
   "execution_count": 25,
   "id": "01f4c6d9-9f3f-4074-a8ab-ffc28ab76707",
   "metadata": {},
   "outputs": [
    {
     "name": "stdout",
     "output_type": "stream",
     "text": [
      "Vaccinated\n",
      "1    1407\n",
      "0     600\n",
      "Name: count, dtype: int64\n"
     ]
    }
   ],
   "source": [
    "print(data['Vaccinated'].value_counts())"
   ]
  },
  {
   "cell_type": "code",
   "execution_count": 26,
   "id": "b2f6991d-bc61-433c-8b4c-5b246ed16a07",
   "metadata": {},
   "outputs": [
    {
     "name": "stdout",
     "output_type": "stream",
     "text": [
      "HealthCondition\n",
      "0    1613\n",
      "1     394\n",
      "Name: count, dtype: int64\n"
     ]
    }
   ],
   "source": [
    "print(data['HealthCondition'].value_counts())"
   ]
  },
  {
   "cell_type": "code",
   "execution_count": 27,
   "id": "8a4b3597-8a27-447c-be0b-046bbf827752",
   "metadata": {},
   "outputs": [
    {
     "name": "stdout",
     "output_type": "stream",
     "text": [
      "TimeInShelterDays\n",
      "15    40\n",
      "52    36\n",
      "21    32\n",
      "6     30\n",
      "79    30\n",
      "      ..\n",
      "32    14\n",
      "39    14\n",
      "16    12\n",
      "80    12\n",
      "11     9\n",
      "Name: count, Length: 89, dtype: int64\n"
     ]
    }
   ],
   "source": [
    "print(data['TimeInShelterDays'].value_counts())"
   ]
  },
  {
   "cell_type": "code",
   "execution_count": 28,
   "id": "dd7d5e3b-8f28-4535-8edd-f5223c9d9609",
   "metadata": {},
   "outputs": [
    {
     "name": "stdout",
     "output_type": "stream",
     "text": [
      "PreviousOwner\n",
      "0    1401\n",
      "1     606\n",
      "Name: count, dtype: int64\n"
     ]
    }
   ],
   "source": [
    "print(data['PreviousOwner'].value_counts())"
   ]
  },
  {
   "cell_type": "code",
   "execution_count": 29,
   "id": "25ce6b15-5fdf-44dc-93f2-b0e68f07f116",
   "metadata": {},
   "outputs": [
    {
     "name": "stdout",
     "output_type": "stream",
     "text": [
      "AdoptionLikelihood\n",
      "0    1348\n",
      "1     659\n",
      "Name: count, dtype: int64\n"
     ]
    }
   ],
   "source": [
    "print(data['AdoptionLikelihood'].value_counts())"
   ]
  },
  {
   "cell_type": "code",
   "execution_count": 30,
   "id": "91e722ef-cfd6-4589-86a3-103ca358d4ff",
   "metadata": {},
   "outputs": [
    {
     "data": {
      "text/plain": [
       "Text(0.5, 1.0, 'Total number of PetType')"
      ]
     },
     "execution_count": 30,
     "metadata": {},
     "output_type": "execute_result"
    },
    {
     "data": {
      "image/png": "[encoded data removed]",
      "text/plain": [
       "<Figure size 400x400 with 1 Axes>"
      ]
     },
     "metadata": {},
     "output_type": "display_data"
    }
   ],
   "source": [
    "plt.figure(figsize =(4,4))\n",
    "sns.countplot(x =\"PetType\", data=data)\n",
    "plt.xlabel('PetType')\n",
    "plt.ylabel('Count of PetType')\n",
    "plt.title('Total number of PetType')"
   ]
  },
  {
   "cell_type": "code",
   "execution_count": 31,
   "id": "2dc82196-68ea-420d-b1ac-9f68a033fdf5",
   "metadata": {},
   "outputs": [
    {
     "data": {
      "text/plain": [
       "Text(0.5, 1.0, 'Total number of Breed')"
      ]
     },
     "execution_count": 31,
     "metadata": {},
     "output_type": "execute_result"
    },
    {
     "data": {
      "image/png": "[encoded data removed]",
      "text/plain": [
       "<Figure size 600x400 with 1 Axes>"
      ]
     },
     "metadata": {},
     "output_type": "display_data"
    }
   ],
   "source": [
    "plt.figure(figsize =(6,4))\n",
    "sns.countplot(x =\"Breed\", data=data)\n",
    "plt.xlabel('Breed')\n",
    "plt.ylabel('Count of Breed')\n",
    "plt.title('Total number of Breed')"
   ]
  },
  {
   "cell_type": "code",
   "execution_count": 32,
   "id": "55fe46cd-949f-43ec-8520-437a38f98fe4",
   "metadata": {},
   "outputs": [
    {
     "data": {
      "text/plain": [
       "Text(0.5, 1.0, 'Total number of \"Color')"
      ]
     },
     "execution_count": 32,
     "metadata": {},
     "output_type": "execute_result"
    },
    {
     "data": {
      "image/png": "[encoded data removed]",
      "text/plain": [
       "<Figure size 600x400 with 1 Axes>"
      ]
     },
     "metadata": {},
     "output_type": "display_data"
    }
   ],
   "source": [
    "plt.figure(figsize =(6,4))\n",
    "sns.countplot(x =\"Color\", data=data)\n",
    "plt.xlabel('Color')\n",
    "plt.ylabel('Count of \"Color')\n",
    "plt.title('Total number of \"Color')"
   ]
  },
  {
   "cell_type": "code",
   "execution_count": 33,
   "id": "5815ff87-8127-462a-a0f4-e8ced979c6b7",
   "metadata": {},
   "outputs": [
    {
     "data": {
      "text/plain": [
       "Text(0.5, 1.0, 'Total number of Size')"
      ]
     },
     "execution_count": 33,
     "metadata": {},
     "output_type": "execute_result"
    },
    {
     "data": {
      "image/png": "[encoded data removed]",
      "text/plain": [
       "<Figure size 400x400 with 1 Axes>"
      ]
     },
     "metadata": {},
     "output_type": "display_data"
    }
   ],
   "source": [
    "plt.figure(figsize =(4,4))\n",
    "sns.countplot(x =\"Size\", data=data)\n",
    "plt.xlabel('Size')\n",
    "plt.ylabel('Count of Size')\n",
    "plt.title('Total number of Size')"
   ]
  },
  {
   "cell_type": "code",
   "execution_count": 34,
   "id": "77eb3a17-dd35-45a7-bfff-d36e0f346a88",
   "metadata": {},
   "outputs": [
    {
     "data": {
      "text/plain": [
       "Text(0.5, 1.0, 'Total number of Vaccinated')"
      ]
     },
     "execution_count": 34,
     "metadata": {},
     "output_type": "execute_result"
    },
    {
     "data": {
      "image/png": "[encoded data removed]",
      "text/plain": [
       "<Figure size 200x400 with 1 Axes>"
      ]
     },
     "metadata": {},
     "output_type": "display_data"
    }
   ],
   "source": [
    "plt.figure(figsize =(2,4))\n",
    "sns.countplot(x =\"Vaccinated\", data=data)\n",
    "plt.xlabel('Vaccinated')\n",
    "plt.ylabel('Count of Vaccinated')\n",
    "plt.title('Total number of Vaccinated')"
   ]
  },
  {
   "cell_type": "code",
   "execution_count": 35,
   "id": "ce2e33e5-a5f8-4327-9707-f97a0c7772cd",
   "metadata": {},
   "outputs": [
    {
     "data": {
      "text/plain": [
       "Text(0.5, 1.0, 'Total number of HealthCondition')"
      ]
     },
     "execution_count": 35,
     "metadata": {},
     "output_type": "execute_result"
    },
    {
     "data": {
      "image/png": "[encoded data removed]",
      "text/plain": [
       "<Figure size 200x400 with 1 Axes>"
      ]
     },
     "metadata": {},
     "output_type": "display_data"
    }
   ],
   "source": [
    "plt.figure(figsize =(2,4))\n",
    "sns.countplot(x =\"HealthCondition\", data=data)\n",
    "plt.xlabel('HealthCondition')\n",
    "plt.ylabel('Count of HealthCondition')\n",
    "plt.title('Total number of HealthCondition')"
   ]
  },
  {
   "cell_type": "code",
   "execution_count": 36,
   "id": "583181de-9714-4503-ba1e-966213817eb3",
   "metadata": {},
   "outputs": [
    {
     "data": {
      "text/plain": [
       "Text(0.5, 1.0, 'Total number of AdoptionFee')"
      ]
     },
     "execution_count": 36,
     "metadata": {},
     "output_type": "execute_result"
    },
    {
     "data": {
      "image/png": "[encoded data removed]",
      "text/plain": [
       "<Figure size 600x400 with 1 Axes>"
      ]
     },
     "metadata": {},
     "output_type": "display_data"
    }
   ],
   "source": [
    "plt.figure(figsize =(6,4))\n",
    "sns.countplot(x =\"AdoptionFee\", data=data)\n",
    "plt.xlabel('AdoptionFee')\n",
    "plt.ylabel('Count of AdoptionFee')\n",
    "plt.title('Total number of AdoptionFee')"
   ]
  },
  {
   "cell_type": "code",
   "execution_count": 37,
   "id": "63bb7787-fc54-4f41-a444-3d6e3ee56004",
   "metadata": {},
   "outputs": [
    {
     "data": {
      "text/plain": [
       "Text(0.5, 1.0, 'Total number of PreviousOwner')"
      ]
     },
     "execution_count": 37,
     "metadata": {},
     "output_type": "execute_result"
    },
    {
     "data": {
      "image/png": "[encoded data removed]",
      "text/plain": [
       "<Figure size 300x400 with 1 Axes>"
      ]
     },
     "metadata": {},
     "output_type": "display_data"
    }
   ],
   "source": [
    "plt.figure(figsize =(3,4))\n",
    "sns.countplot(x =\"PreviousOwner\", data=data)\n",
    "plt.xlabel('PreviousOwner')\n",
    "plt.ylabel('Count of PreviousOwner')\n",
    "plt.title('Total number of PreviousOwner')"
   ]
  },
  {
   "cell_type": "code",
   "execution_count": 38,
   "id": "be3b82ea-d18c-4b10-bd0a-63bd48015116",
   "metadata": {},
   "outputs": [
    {
     "data": {
      "text/plain": [
       "Text(0.5, 1.0, 'Total number of AdoptionLikelihood')"
      ]
     },
     "execution_count": 38,
     "metadata": {},
     "output_type": "execute_result"
    },
    {
     "data": {
      "image/png": "[encoded data removed]",
      "text/plain": [
       "<Figure size 200x400 with 1 Axes>"
      ]
     },
     "metadata": {},
     "output_type": "display_data"
    }
   ],
   "source": [
    "plt.figure(figsize =(2,4))\n",
    "sns.countplot(x =\"AdoptionLikelihood\", data=data)\n",
    "plt.xlabel('AdoptionLikelihood')\n",
    "plt.ylabel('Count of AdoptionLikelihood')\n",
    "plt.title('Total number of AdoptionLikelihood')"
   ]
  },
  {
   "cell_type": "code",
   "execution_count": 39,
   "id": "de9fe82e-cb52-4ae4-a21a-1aff56f7b009",
   "metadata": {},
   "outputs": [],
   "source": [
    "def AL (AdoptionLikelihood):\n",
    "    if AdoptionLikelihood == 1:\n",
    "        return \"YES\"\n",
    "    else:\n",
    "        return \"NO\"\n",
    "\n",
    "data['AL']= data['AdoptionLikelihood'].apply(AL)"
   ]
  },
  {
   "cell_type": "code",
   "execution_count": 40,
   "id": "5bdab91f-4a60-47a8-bdf0-80bbaf5c4b86",
   "metadata": {},
   "outputs": [
    {
     "data": {
      "text/html": [
       "<div>\n",
       "<style scoped>\n",
       "    .dataframe tbody tr th:only-of-type {\n",
       "        vertical-align: middle;\n",
       "    }\n",
       "\n",
       "    .dataframe tbody tr th {\n",
       "        vertical-align: top;\n",
       "    }\n",
       "\n",
       "    .dataframe thead th {\n",
       "        text-align: right;\n",
       "    }\n",
       "</style>\n",
       "<table border=\"1\" class=\"dataframe\">\n",
       "  <thead>\n",
       "    <tr style=\"text-align: right;\">\n",
       "      <th></th>\n",
       "      <th>PetID</th>\n",
       "      <th>PetType</th>\n",
       "      <th>Breed</th>\n",
       "      <th>AgeMonths</th>\n",
       "      <th>Color</th>\n",
       "      <th>Size</th>\n",
       "      <th>WeightKg</th>\n",
       "      <th>Vaccinated</th>\n",
       "      <th>HealthCondition</th>\n",
       "      <th>TimeInShelterDays</th>\n",
       "      <th>AdoptionFee</th>\n",
       "      <th>PreviousOwner</th>\n",
       "      <th>AdoptionLikelihood</th>\n",
       "      <th>AL</th>\n",
       "    </tr>\n",
       "  </thead>\n",
       "  <tbody>\n",
       "    <tr>\n",
       "      <th>0</th>\n",
       "      <td>500</td>\n",
       "      <td>Bird</td>\n",
       "      <td>Parakeet</td>\n",
       "      <td>131</td>\n",
       "      <td>Orange</td>\n",
       "      <td>Large</td>\n",
       "      <td>5.039768</td>\n",
       "      <td>1</td>\n",
       "      <td>0</td>\n",
       "      <td>27</td>\n",
       "      <td>140</td>\n",
       "      <td>0</td>\n",
       "      <td>0</td>\n",
       "      <td>NO</td>\n",
       "    </tr>\n",
       "    <tr>\n",
       "      <th>1</th>\n",
       "      <td>501</td>\n",
       "      <td>Rabbit</td>\n",
       "      <td>Rabbit</td>\n",
       "      <td>73</td>\n",
       "      <td>White</td>\n",
       "      <td>Large</td>\n",
       "      <td>16.086727</td>\n",
       "      <td>0</td>\n",
       "      <td>0</td>\n",
       "      <td>8</td>\n",
       "      <td>235</td>\n",
       "      <td>0</td>\n",
       "      <td>0</td>\n",
       "      <td>NO</td>\n",
       "    </tr>\n",
       "    <tr>\n",
       "      <th>2</th>\n",
       "      <td>502</td>\n",
       "      <td>Dog</td>\n",
       "      <td>Golden Retriever</td>\n",
       "      <td>136</td>\n",
       "      <td>Orange</td>\n",
       "      <td>Medium</td>\n",
       "      <td>2.076286</td>\n",
       "      <td>0</td>\n",
       "      <td>0</td>\n",
       "      <td>85</td>\n",
       "      <td>385</td>\n",
       "      <td>0</td>\n",
       "      <td>0</td>\n",
       "      <td>NO</td>\n",
       "    </tr>\n",
       "    <tr>\n",
       "      <th>3</th>\n",
       "      <td>503</td>\n",
       "      <td>Bird</td>\n",
       "      <td>Parakeet</td>\n",
       "      <td>97</td>\n",
       "      <td>White</td>\n",
       "      <td>Small</td>\n",
       "      <td>3.339423</td>\n",
       "      <td>0</td>\n",
       "      <td>0</td>\n",
       "      <td>61</td>\n",
       "      <td>217</td>\n",
       "      <td>1</td>\n",
       "      <td>0</td>\n",
       "      <td>NO</td>\n",
       "    </tr>\n",
       "    <tr>\n",
       "      <th>4</th>\n",
       "      <td>504</td>\n",
       "      <td>Rabbit</td>\n",
       "      <td>Rabbit</td>\n",
       "      <td>123</td>\n",
       "      <td>Gray</td>\n",
       "      <td>Large</td>\n",
       "      <td>20.498100</td>\n",
       "      <td>0</td>\n",
       "      <td>0</td>\n",
       "      <td>28</td>\n",
       "      <td>14</td>\n",
       "      <td>1</td>\n",
       "      <td>0</td>\n",
       "      <td>NO</td>\n",
       "    </tr>\n",
       "    <tr>\n",
       "      <th>...</th>\n",
       "      <td>...</td>\n",
       "      <td>...</td>\n",
       "      <td>...</td>\n",
       "      <td>...</td>\n",
       "      <td>...</td>\n",
       "      <td>...</td>\n",
       "      <td>...</td>\n",
       "      <td>...</td>\n",
       "      <td>...</td>\n",
       "      <td>...</td>\n",
       "      <td>...</td>\n",
       "      <td>...</td>\n",
       "      <td>...</td>\n",
       "      <td>...</td>\n",
       "    </tr>\n",
       "    <tr>\n",
       "      <th>2002</th>\n",
       "      <td>2502</td>\n",
       "      <td>Dog</td>\n",
       "      <td>Poodle</td>\n",
       "      <td>72</td>\n",
       "      <td>Orange</td>\n",
       "      <td>Small</td>\n",
       "      <td>27.039045</td>\n",
       "      <td>1</td>\n",
       "      <td>0</td>\n",
       "      <td>66</td>\n",
       "      <td>26</td>\n",
       "      <td>1</td>\n",
       "      <td>1</td>\n",
       "      <td>YES</td>\n",
       "    </tr>\n",
       "    <tr>\n",
       "      <th>2003</th>\n",
       "      <td>2503</td>\n",
       "      <td>Rabbit</td>\n",
       "      <td>Rabbit</td>\n",
       "      <td>124</td>\n",
       "      <td>Brown</td>\n",
       "      <td>Small</td>\n",
       "      <td>4.726954</td>\n",
       "      <td>1</td>\n",
       "      <td>1</td>\n",
       "      <td>59</td>\n",
       "      <td>150</td>\n",
       "      <td>0</td>\n",
       "      <td>0</td>\n",
       "      <td>NO</td>\n",
       "    </tr>\n",
       "    <tr>\n",
       "      <th>2004</th>\n",
       "      <td>2504</td>\n",
       "      <td>Rabbit</td>\n",
       "      <td>Rabbit</td>\n",
       "      <td>113</td>\n",
       "      <td>Orange</td>\n",
       "      <td>Small</td>\n",
       "      <td>1.758592</td>\n",
       "      <td>1</td>\n",
       "      <td>0</td>\n",
       "      <td>68</td>\n",
       "      <td>302</td>\n",
       "      <td>0</td>\n",
       "      <td>0</td>\n",
       "      <td>NO</td>\n",
       "    </tr>\n",
       "    <tr>\n",
       "      <th>2005</th>\n",
       "      <td>2505</td>\n",
       "      <td>Dog</td>\n",
       "      <td>Labrador</td>\n",
       "      <td>12</td>\n",
       "      <td>Gray</td>\n",
       "      <td>Large</td>\n",
       "      <td>20.961592</td>\n",
       "      <td>1</td>\n",
       "      <td>0</td>\n",
       "      <td>59</td>\n",
       "      <td>478</td>\n",
       "      <td>0</td>\n",
       "      <td>0</td>\n",
       "      <td>NO</td>\n",
       "    </tr>\n",
       "    <tr>\n",
       "      <th>2006</th>\n",
       "      <td>2506</td>\n",
       "      <td>Rabbit</td>\n",
       "      <td>Rabbit</td>\n",
       "      <td>126</td>\n",
       "      <td>White</td>\n",
       "      <td>Medium</td>\n",
       "      <td>18.519788</td>\n",
       "      <td>1</td>\n",
       "      <td>0</td>\n",
       "      <td>10</td>\n",
       "      <td>267</td>\n",
       "      <td>1</td>\n",
       "      <td>0</td>\n",
       "      <td>NO</td>\n",
       "    </tr>\n",
       "  </tbody>\n",
       "</table>\n",
       "<p>2007 rows × 14 columns</p>\n",
       "</div>"
      ],
      "text/plain": [
       "      PetID PetType             Breed  AgeMonths   Color    Size   WeightKg  \\\n",
       "0       500    Bird          Parakeet        131  Orange   Large   5.039768   \n",
       "1       501  Rabbit            Rabbit         73   White   Large  16.086727   \n",
       "2       502     Dog  Golden Retriever        136  Orange  Medium   2.076286   \n",
       "3       503    Bird          Parakeet         97   White   Small   3.339423   \n",
       "4       504  Rabbit            Rabbit        123    Gray   Large  20.498100   \n",
       "...     ...     ...               ...        ...     ...     ...        ...   \n",
       "2002   2502     Dog            Poodle         72  Orange   Small  27.039045   \n",
       "2003   2503  Rabbit            Rabbit        124   Brown   Small   4.726954   \n",
       "2004   2504  Rabbit            Rabbit        113  Orange   Small   1.758592   \n",
       "2005   2505     Dog          Labrador         12    Gray   Large  20.961592   \n",
       "2006   2506  Rabbit            Rabbit        126   White  Medium  18.519788   \n",
       "\n",
       "      Vaccinated  HealthCondition  TimeInShelterDays  AdoptionFee  \\\n",
       "0              1                0                 27          140   \n",
       "1              0                0                  8          235   \n",
       "2              0                0                 85          385   \n",
       "3              0                0                 61          217   \n",
       "4              0                0                 28           14   \n",
       "...          ...              ...                ...          ...   \n",
       "2002           1                0                 66           26   \n",
       "2003           1                1                 59          150   \n",
       "2004           1                0                 68          302   \n",
       "2005           1                0                 59          478   \n",
       "2006           1                0                 10          267   \n",
       "\n",
       "      PreviousOwner  AdoptionLikelihood   AL  \n",
       "0                 0                   0   NO  \n",
       "1                 0                   0   NO  \n",
       "2                 0                   0   NO  \n",
       "3                 1                   0   NO  \n",
       "4                 1                   0   NO  \n",
       "...             ...                 ...  ...  \n",
       "2002              1                   1  YES  \n",
       "2003              0                   0   NO  \n",
       "2004              0                   0   NO  \n",
       "2005              0                   0   NO  \n",
       "2006              1                   0   NO  \n",
       "\n",
       "[2007 rows x 14 columns]"
      ]
     },
     "execution_count": 40,
     "metadata": {},
     "output_type": "execute_result"
    }
   ],
   "source": [
    "data"
   ]
  },
  {
   "cell_type": "code",
   "execution_count": 41,
   "id": "acfe1c13-43ed-4943-8937-4935684474fc",
   "metadata": {},
   "outputs": [],
   "source": [
    "def TSD(TimeInShelterDays):\n",
    "    if TimeInShelterDays <=30:\n",
    "        return \"1month old\"\n",
    "    elif TimeInShelterDays <=60:\n",
    "        return \"2month old\"\n",
    "    elif TimeInShelterDays <=120:\n",
    "        return \"3month old\"\n",
    "    else:\n",
    "        return \"Over 4month old\"\n",
    "\n",
    "data ['TSD'] = data[\"TimeInShelterDays\"].apply(TSD)"
   ]
  },
  {
   "cell_type": "code",
   "execution_count": 42,
   "id": "c167b0d6-baeb-414e-9a7b-e62ac3f9e898",
   "metadata": {},
   "outputs": [
    {
     "data": {
      "text/html": [
       "<div>\n",
       "<style scoped>\n",
       "    .dataframe tbody tr th:only-of-type {\n",
       "        vertical-align: middle;\n",
       "    }\n",
       "\n",
       "    .dataframe tbody tr th {\n",
       "        vertical-align: top;\n",
       "    }\n",
       "\n",
       "    .dataframe thead th {\n",
       "        text-align: right;\n",
       "    }\n",
       "</style>\n",
       "<table border=\"1\" class=\"dataframe\">\n",
       "  <thead>\n",
       "    <tr style=\"text-align: right;\">\n",
       "      <th></th>\n",
       "      <th>PetID</th>\n",
       "      <th>PetType</th>\n",
       "      <th>Breed</th>\n",
       "      <th>AgeMonths</th>\n",
       "      <th>Color</th>\n",
       "      <th>Size</th>\n",
       "      <th>WeightKg</th>\n",
       "      <th>Vaccinated</th>\n",
       "      <th>HealthCondition</th>\n",
       "      <th>TimeInShelterDays</th>\n",
       "      <th>AdoptionFee</th>\n",
       "      <th>PreviousOwner</th>\n",
       "      <th>AdoptionLikelihood</th>\n",
       "      <th>AL</th>\n",
       "      <th>TSD</th>\n",
       "    </tr>\n",
       "  </thead>\n",
       "  <tbody>\n",
       "    <tr>\n",
       "      <th>0</th>\n",
       "      <td>500</td>\n",
       "      <td>Bird</td>\n",
       "      <td>Parakeet</td>\n",
       "      <td>131</td>\n",
       "      <td>Orange</td>\n",
       "      <td>Large</td>\n",
       "      <td>5.039768</td>\n",
       "      <td>1</td>\n",
       "      <td>0</td>\n",
       "      <td>27</td>\n",
       "      <td>140</td>\n",
       "      <td>0</td>\n",
       "      <td>0</td>\n",
       "      <td>NO</td>\n",
       "      <td>1month old</td>\n",
       "    </tr>\n",
       "    <tr>\n",
       "      <th>1</th>\n",
       "      <td>501</td>\n",
       "      <td>Rabbit</td>\n",
       "      <td>Rabbit</td>\n",
       "      <td>73</td>\n",
       "      <td>White</td>\n",
       "      <td>Large</td>\n",
       "      <td>16.086727</td>\n",
       "      <td>0</td>\n",
       "      <td>0</td>\n",
       "      <td>8</td>\n",
       "      <td>235</td>\n",
       "      <td>0</td>\n",
       "      <td>0</td>\n",
       "      <td>NO</td>\n",
       "      <td>1month old</td>\n",
       "    </tr>\n",
       "    <tr>\n",
       "      <th>2</th>\n",
       "      <td>502</td>\n",
       "      <td>Dog</td>\n",
       "      <td>Golden Retriever</td>\n",
       "      <td>136</td>\n",
       "      <td>Orange</td>\n",
       "      <td>Medium</td>\n",
       "      <td>2.076286</td>\n",
       "      <td>0</td>\n",
       "      <td>0</td>\n",
       "      <td>85</td>\n",
       "      <td>385</td>\n",
       "      <td>0</td>\n",
       "      <td>0</td>\n",
       "      <td>NO</td>\n",
       "      <td>3month old</td>\n",
       "    </tr>\n",
       "    <tr>\n",
       "      <th>3</th>\n",
       "      <td>503</td>\n",
       "      <td>Bird</td>\n",
       "      <td>Parakeet</td>\n",
       "      <td>97</td>\n",
       "      <td>White</td>\n",
       "      <td>Small</td>\n",
       "      <td>3.339423</td>\n",
       "      <td>0</td>\n",
       "      <td>0</td>\n",
       "      <td>61</td>\n",
       "      <td>217</td>\n",
       "      <td>1</td>\n",
       "      <td>0</td>\n",
       "      <td>NO</td>\n",
       "      <td>3month old</td>\n",
       "    </tr>\n",
       "    <tr>\n",
       "      <th>4</th>\n",
       "      <td>504</td>\n",
       "      <td>Rabbit</td>\n",
       "      <td>Rabbit</td>\n",
       "      <td>123</td>\n",
       "      <td>Gray</td>\n",
       "      <td>Large</td>\n",
       "      <td>20.498100</td>\n",
       "      <td>0</td>\n",
       "      <td>0</td>\n",
       "      <td>28</td>\n",
       "      <td>14</td>\n",
       "      <td>1</td>\n",
       "      <td>0</td>\n",
       "      <td>NO</td>\n",
       "      <td>1month old</td>\n",
       "    </tr>\n",
       "    <tr>\n",
       "      <th>...</th>\n",
       "      <td>...</td>\n",
       "      <td>...</td>\n",
       "      <td>...</td>\n",
       "      <td>...</td>\n",
       "      <td>...</td>\n",
       "      <td>...</td>\n",
       "      <td>...</td>\n",
       "      <td>...</td>\n",
       "      <td>...</td>\n",
       "      <td>...</td>\n",
       "      <td>...</td>\n",
       "      <td>...</td>\n",
       "      <td>...</td>\n",
       "      <td>...</td>\n",
       "      <td>...</td>\n",
       "    </tr>\n",
       "    <tr>\n",
       "      <th>2002</th>\n",
       "      <td>2502</td>\n",
       "      <td>Dog</td>\n",
       "      <td>Poodle</td>\n",
       "      <td>72</td>\n",
       "      <td>Orange</td>\n",
       "      <td>Small</td>\n",
       "      <td>27.039045</td>\n",
       "      <td>1</td>\n",
       "      <td>0</td>\n",
       "      <td>66</td>\n",
       "      <td>26</td>\n",
       "      <td>1</td>\n",
       "      <td>1</td>\n",
       "      <td>YES</td>\n",
       "      <td>3month old</td>\n",
       "    </tr>\n",
       "    <tr>\n",
       "      <th>2003</th>\n",
       "      <td>2503</td>\n",
       "      <td>Rabbit</td>\n",
       "      <td>Rabbit</td>\n",
       "      <td>124</td>\n",
       "      <td>Brown</td>\n",
       "      <td>Small</td>\n",
       "      <td>4.726954</td>\n",
       "      <td>1</td>\n",
       "      <td>1</td>\n",
       "      <td>59</td>\n",
       "      <td>150</td>\n",
       "      <td>0</td>\n",
       "      <td>0</td>\n",
       "      <td>NO</td>\n",
       "      <td>2month old</td>\n",
       "    </tr>\n",
       "    <tr>\n",
       "      <th>2004</th>\n",
       "      <td>2504</td>\n",
       "      <td>Rabbit</td>\n",
       "      <td>Rabbit</td>\n",
       "      <td>113</td>\n",
       "      <td>Orange</td>\n",
       "      <td>Small</td>\n",
       "      <td>1.758592</td>\n",
       "      <td>1</td>\n",
       "      <td>0</td>\n",
       "      <td>68</td>\n",
       "      <td>302</td>\n",
       "      <td>0</td>\n",
       "      <td>0</td>\n",
       "      <td>NO</td>\n",
       "      <td>3month old</td>\n",
       "    </tr>\n",
       "    <tr>\n",
       "      <th>2005</th>\n",
       "      <td>2505</td>\n",
       "      <td>Dog</td>\n",
       "      <td>Labrador</td>\n",
       "      <td>12</td>\n",
       "      <td>Gray</td>\n",
       "      <td>Large</td>\n",
       "      <td>20.961592</td>\n",
       "      <td>1</td>\n",
       "      <td>0</td>\n",
       "      <td>59</td>\n",
       "      <td>478</td>\n",
       "      <td>0</td>\n",
       "      <td>0</td>\n",
       "      <td>NO</td>\n",
       "      <td>2month old</td>\n",
       "    </tr>\n",
       "    <tr>\n",
       "      <th>2006</th>\n",
       "      <td>2506</td>\n",
       "      <td>Rabbit</td>\n",
       "      <td>Rabbit</td>\n",
       "      <td>126</td>\n",
       "      <td>White</td>\n",
       "      <td>Medium</td>\n",
       "      <td>18.519788</td>\n",
       "      <td>1</td>\n",
       "      <td>0</td>\n",
       "      <td>10</td>\n",
       "      <td>267</td>\n",
       "      <td>1</td>\n",
       "      <td>0</td>\n",
       "      <td>NO</td>\n",
       "      <td>1month old</td>\n",
       "    </tr>\n",
       "  </tbody>\n",
       "</table>\n",
       "<p>2007 rows × 15 columns</p>\n",
       "</div>"
      ],
      "text/plain": [
       "      PetID PetType             Breed  AgeMonths   Color    Size   WeightKg  \\\n",
       "0       500    Bird          Parakeet        131  Orange   Large   5.039768   \n",
       "1       501  Rabbit            Rabbit         73   White   Large  16.086727   \n",
       "2       502     Dog  Golden Retriever        136  Orange  Medium   2.076286   \n",
       "3       503    Bird          Parakeet         97   White   Small   3.339423   \n",
       "4       504  Rabbit            Rabbit        123    Gray   Large  20.498100   \n",
       "...     ...     ...               ...        ...     ...     ...        ...   \n",
       "2002   2502     Dog            Poodle         72  Orange   Small  27.039045   \n",
       "2003   2503  Rabbit            Rabbit        124   Brown   Small   4.726954   \n",
       "2004   2504  Rabbit            Rabbit        113  Orange   Small   1.758592   \n",
       "2005   2505     Dog          Labrador         12    Gray   Large  20.961592   \n",
       "2006   2506  Rabbit            Rabbit        126   White  Medium  18.519788   \n",
       "\n",
       "      Vaccinated  HealthCondition  TimeInShelterDays  AdoptionFee  \\\n",
       "0              1                0                 27          140   \n",
       "1              0                0                  8          235   \n",
       "2              0                0                 85          385   \n",
       "3              0                0                 61          217   \n",
       "4              0                0                 28           14   \n",
       "...          ...              ...                ...          ...   \n",
       "2002           1                0                 66           26   \n",
       "2003           1                1                 59          150   \n",
       "2004           1                0                 68          302   \n",
       "2005           1                0                 59          478   \n",
       "2006           1                0                 10          267   \n",
       "\n",
       "      PreviousOwner  AdoptionLikelihood   AL         TSD  \n",
       "0                 0                   0   NO  1month old  \n",
       "1                 0                   0   NO  1month old  \n",
       "2                 0                   0   NO  3month old  \n",
       "3                 1                   0   NO  3month old  \n",
       "4                 1                   0   NO  1month old  \n",
       "...             ...                 ...  ...         ...  \n",
       "2002              1                   1  YES  3month old  \n",
       "2003              0                   0   NO  2month old  \n",
       "2004              0                   0   NO  3month old  \n",
       "2005              0                   0   NO  2month old  \n",
       "2006              1                   0   NO  1month old  \n",
       "\n",
       "[2007 rows x 15 columns]"
      ]
     },
     "execution_count": 42,
     "metadata": {},
     "output_type": "execute_result"
    }
   ],
   "source": [
    "data"
   ]
  },
  {
   "cell_type": "code",
   "execution_count": 43,
   "id": "6ef6c0b0-9517-449b-8a04-af94360117bf",
   "metadata": {},
   "outputs": [
    {
     "data": {
      "text/plain": [
       "Text(0.5, 1.0, 'Total Number Of PetType')"
      ]
     },
     "execution_count": 43,
     "metadata": {},
     "output_type": "execute_result"
    },
    {
     "data": {
      "image/png": "[encoded data removed]",
      "text/plain": [
       "<Figure size 500x500 with 1 Axes>"
      ]
     },
     "metadata": {},
     "output_type": "display_data"
    }
   ],
   "source": [
    "plt.figure(figsize =(5,5))\n",
    "sns.countplot(x= 'PetType',data=data ,hue='AL')\n",
    "plt.xlabel('PetType')\n",
    "plt.ylabel('Count of AdoptionLikelihood')\n",
    "plt.title('Total Number Of PetType')"
   ]
  },
  {
   "cell_type": "code",
   "execution_count": 44,
   "id": "b0a335f3-1917-4626-ae74-a6d2a5f972d5",
   "metadata": {},
   "outputs": [
    {
     "data": {
      "text/plain": [
       "Text(0.5, 1.0, 'Total Number Of Breed')"
      ]
     },
     "execution_count": 44,
     "metadata": {},
     "output_type": "execute_result"
    },
    {
     "data": {
      "image/png": "[encoded data removed]",
      "text/plain": [
       "<Figure size 1000x500 with 1 Axes>"
      ]
     },
     "metadata": {},
     "output_type": "display_data"
    }
   ],
   "source": [
    "plt.figure(figsize =(10,5))\n",
    "sns.countplot(x= 'Breed',data=data ,hue='AL')\n",
    "plt.xlabel('Breed')\n",
    "plt.ylabel('Count of AdoptionLikelihood')\n",
    "plt.title('Total Number Of Breed')"
   ]
  },
  {
   "cell_type": "code",
   "execution_count": 45,
   "id": "ae465ddf-980a-4286-9751-25264f34fce7",
   "metadata": {},
   "outputs": [
    {
     "data": {
      "text/plain": [
       "Text(0.5, 1.0, 'Total Number Of Size')"
      ]
     },
     "execution_count": 45,
     "metadata": {},
     "output_type": "execute_result"
    },
    {
     "data": {
      "image/png": "[encoded data removed]",
      "text/plain": [
       "<Figure size 400x500 with 1 Axes>"
      ]
     },
     "metadata": {},
     "output_type": "display_data"
    }
   ],
   "source": [
    "plt.figure(figsize =(4,5))\n",
    "sns.countplot(x= 'Size',data=data ,hue='AL')\n",
    "plt.xlabel('Size')\n",
    "plt.ylabel('Count of AdoptionLikelihood')\n",
    "plt.title('Total Number Of Size')"
   ]
  },
  {
   "cell_type": "code",
   "execution_count": 46,
   "id": "aee6a649-0e45-43f3-b4ad-a58cb37b7f5b",
   "metadata": {},
   "outputs": [
    {
     "data": {
      "text/plain": [
       "Text(0.5, 1.0, 'Total Number Of Vaccinated')"
      ]
     },
     "execution_count": 46,
     "metadata": {},
     "output_type": "execute_result"
    },
    {
     "data": {
      "image/png": "[encoded data removed]",
      "text/plain": [
       "<Figure size 300x400 with 1 Axes>"
      ]
     },
     "metadata": {},
     "output_type": "display_data"
    }
   ],
   "source": [
    "plt.figure(figsize =(3,4))\n",
    "sns.countplot(x= 'Vaccinated',data=data ,hue='AL')\n",
    "plt.xlabel('Vaccinated')\n",
    "plt.ylabel('Count of AdoptionLikelihood')\n",
    "plt.title('Total Number Of Vaccinated')"
   ]
  },
  {
   "cell_type": "code",
   "execution_count": 47,
   "id": "f15c475e-8b06-4b9e-ae6d-c3c172c758dc",
   "metadata": {},
   "outputs": [
    {
     "data": {
      "text/plain": [
       "Text(0.5, 1.0, 'Total Number Of TSD')"
      ]
     },
     "execution_count": 47,
     "metadata": {},
     "output_type": "execute_result"
    },
    {
     "data": {
      "image/png": "[encoded data removed]",
      "text/plain": [
       "<Figure size 400x400 with 1 Axes>"
      ]
     },
     "metadata": {},
     "output_type": "display_data"
    }
   ],
   "source": [
    "plt.figure(figsize =(4,4))\n",
    "sns.countplot(x= 'TSD',data=data ,hue='AL')\n",
    "plt.xlabel('TSD')\n",
    "plt.ylabel('Count of AdoptionLikelihood')\n",
    "plt.title('Total Number Of TSD')"
   ]
  },
  {
   "cell_type": "code",
   "execution_count": 48,
   "id": "b490aaf2-7b09-4eb5-8c41-f1449950cdd3",
   "metadata": {},
   "outputs": [],
   "source": [
    "corr_table = data.corr(numeric_only=True)"
   ]
  },
  {
   "cell_type": "code",
   "execution_count": 49,
   "id": "4ddeeeca-d1a2-433a-8c09-2861e18f23d4",
   "metadata": {},
   "outputs": [
    {
     "data": {
      "text/html": [
       "<div>\n",
       "<style scoped>\n",
       "    .dataframe tbody tr th:only-of-type {\n",
       "        vertical-align: middle;\n",
       "    }\n",
       "\n",
       "    .dataframe tbody tr th {\n",
       "        vertical-align: top;\n",
       "    }\n",
       "\n",
       "    .dataframe thead th {\n",
       "        text-align: right;\n",
       "    }\n",
       "</style>\n",
       "<table border=\"1\" class=\"dataframe\">\n",
       "  <thead>\n",
       "    <tr style=\"text-align: right;\">\n",
       "      <th></th>\n",
       "      <th>PetID</th>\n",
       "      <th>AgeMonths</th>\n",
       "      <th>WeightKg</th>\n",
       "      <th>Vaccinated</th>\n",
       "      <th>HealthCondition</th>\n",
       "      <th>TimeInShelterDays</th>\n",
       "      <th>AdoptionFee</th>\n",
       "      <th>PreviousOwner</th>\n",
       "      <th>AdoptionLikelihood</th>\n",
       "    </tr>\n",
       "  </thead>\n",
       "  <tbody>\n",
       "    <tr>\n",
       "      <th>PetID</th>\n",
       "      <td>1.000000</td>\n",
       "      <td>-0.008464</td>\n",
       "      <td>0.034315</td>\n",
       "      <td>0.008808</td>\n",
       "      <td>0.010486</td>\n",
       "      <td>0.017683</td>\n",
       "      <td>0.010557</td>\n",
       "      <td>0.001339</td>\n",
       "      <td>0.049582</td>\n",
       "    </tr>\n",
       "    <tr>\n",
       "      <th>AgeMonths</th>\n",
       "      <td>-0.008464</td>\n",
       "      <td>1.000000</td>\n",
       "      <td>-0.029189</td>\n",
       "      <td>-0.001801</td>\n",
       "      <td>0.017200</td>\n",
       "      <td>0.036837</td>\n",
       "      <td>-0.038129</td>\n",
       "      <td>0.034943</td>\n",
       "      <td>-0.202209</td>\n",
       "    </tr>\n",
       "    <tr>\n",
       "      <th>WeightKg</th>\n",
       "      <td>0.034315</td>\n",
       "      <td>-0.029189</td>\n",
       "      <td>1.000000</td>\n",
       "      <td>0.022526</td>\n",
       "      <td>0.000708</td>\n",
       "      <td>-0.000980</td>\n",
       "      <td>-0.002367</td>\n",
       "      <td>-0.049155</td>\n",
       "      <td>0.017601</td>\n",
       "    </tr>\n",
       "    <tr>\n",
       "      <th>Vaccinated</th>\n",
       "      <td>0.008808</td>\n",
       "      <td>-0.001801</td>\n",
       "      <td>0.022526</td>\n",
       "      <td>1.000000</td>\n",
       "      <td>0.024079</td>\n",
       "      <td>-0.001123</td>\n",
       "      <td>0.021662</td>\n",
       "      <td>-0.011460</td>\n",
       "      <td>0.301311</td>\n",
       "    </tr>\n",
       "    <tr>\n",
       "      <th>HealthCondition</th>\n",
       "      <td>0.010486</td>\n",
       "      <td>0.017200</td>\n",
       "      <td>0.000708</td>\n",
       "      <td>0.024079</td>\n",
       "      <td>1.000000</td>\n",
       "      <td>-0.012664</td>\n",
       "      <td>-0.002537</td>\n",
       "      <td>0.013755</td>\n",
       "      <td>-0.244061</td>\n",
       "    </tr>\n",
       "    <tr>\n",
       "      <th>TimeInShelterDays</th>\n",
       "      <td>0.017683</td>\n",
       "      <td>0.036837</td>\n",
       "      <td>-0.000980</td>\n",
       "      <td>-0.001123</td>\n",
       "      <td>-0.012664</td>\n",
       "      <td>1.000000</td>\n",
       "      <td>-0.007104</td>\n",
       "      <td>0.007958</td>\n",
       "      <td>0.008867</td>\n",
       "    </tr>\n",
       "    <tr>\n",
       "      <th>AdoptionFee</th>\n",
       "      <td>0.010557</td>\n",
       "      <td>-0.038129</td>\n",
       "      <td>-0.002367</td>\n",
       "      <td>0.021662</td>\n",
       "      <td>-0.002537</td>\n",
       "      <td>-0.007104</td>\n",
       "      <td>1.000000</td>\n",
       "      <td>0.009755</td>\n",
       "      <td>-0.005486</td>\n",
       "    </tr>\n",
       "    <tr>\n",
       "      <th>PreviousOwner</th>\n",
       "      <td>0.001339</td>\n",
       "      <td>0.034943</td>\n",
       "      <td>-0.049155</td>\n",
       "      <td>-0.011460</td>\n",
       "      <td>0.013755</td>\n",
       "      <td>0.007958</td>\n",
       "      <td>0.009755</td>\n",
       "      <td>1.000000</td>\n",
       "      <td>-0.023065</td>\n",
       "    </tr>\n",
       "    <tr>\n",
       "      <th>AdoptionLikelihood</th>\n",
       "      <td>0.049582</td>\n",
       "      <td>-0.202209</td>\n",
       "      <td>0.017601</td>\n",
       "      <td>0.301311</td>\n",
       "      <td>-0.244061</td>\n",
       "      <td>0.008867</td>\n",
       "      <td>-0.005486</td>\n",
       "      <td>-0.023065</td>\n",
       "      <td>1.000000</td>\n",
       "    </tr>\n",
       "  </tbody>\n",
       "</table>\n",
       "</div>"
      ],
      "text/plain": [
       "                       PetID  AgeMonths  WeightKg  Vaccinated  \\\n",
       "PetID               1.000000  -0.008464  0.034315    0.008808   \n",
       "AgeMonths          -0.008464   1.000000 -0.029189   -0.001801   \n",
       "WeightKg            0.034315  -0.029189  1.000000    0.022526   \n",
       "Vaccinated          0.008808  -0.001801  0.022526    1.000000   \n",
       "HealthCondition     0.010486   0.017200  0.000708    0.024079   \n",
       "TimeInShelterDays   0.017683   0.036837 -0.000980   -0.001123   \n",
       "AdoptionFee         0.010557  -0.038129 -0.002367    0.021662   \n",
       "PreviousOwner       0.001339   0.034943 -0.049155   -0.011460   \n",
       "AdoptionLikelihood  0.049582  -0.202209  0.017601    0.301311   \n",
       "\n",
       "                    HealthCondition  TimeInShelterDays  AdoptionFee  \\\n",
       "PetID                      0.010486           0.017683     0.010557   \n",
       "AgeMonths                  0.017200           0.036837    -0.038129   \n",
       "WeightKg                   0.000708          -0.000980    -0.002367   \n",
       "Vaccinated                 0.024079          -0.001123     0.021662   \n",
       "HealthCondition            1.000000          -0.012664    -0.002537   \n",
       "TimeInShelterDays         -0.012664           1.000000    -0.007104   \n",
       "AdoptionFee               -0.002537          -0.007104     1.000000   \n",
       "PreviousOwner              0.013755           0.007958     0.009755   \n",
       "AdoptionLikelihood        -0.244061           0.008867    -0.005486   \n",
       "\n",
       "                    PreviousOwner  AdoptionLikelihood  \n",
       "PetID                    0.001339            0.049582  \n",
       "AgeMonths                0.034943           -0.202209  \n",
       "WeightKg                -0.049155            0.017601  \n",
       "Vaccinated              -0.011460            0.301311  \n",
       "HealthCondition          0.013755           -0.244061  \n",
       "TimeInShelterDays        0.007958            0.008867  \n",
       "AdoptionFee              0.009755           -0.005486  \n",
       "PreviousOwner            1.000000           -0.023065  \n",
       "AdoptionLikelihood      -0.023065            1.000000  "
      ]
     },
     "execution_count": 49,
     "metadata": {},
     "output_type": "execute_result"
    }
   ],
   "source": [
    "corr_table"
   ]
  },
  {
   "cell_type": "code",
   "execution_count": 50,
   "id": "e2c882e1-e020-47df-85a4-311356de6710",
   "metadata": {},
   "outputs": [
    {
     "data": {
      "text/plain": [
       "<Axes: >"
      ]
     },
     "execution_count": 50,
     "metadata": {},
     "output_type": "execute_result"
    },
    {
     "data": {
      "image/png": "[encoded data removed]",
      "text/plain": [
       "<Figure size 640x480 with 2 Axes>"
      ]
     },
     "metadata": {},
     "output_type": "display_data"
    }
   ],
   "source": [
    "sns.heatmap(corr_table)"
   ]
  },
  {
   "cell_type": "code",
   "execution_count": null,
   "id": "8c626a0d-e7a4-4985-95bf-83c15d26ca8d",
   "metadata": {},
   "outputs": [],
   "source": []
  },
  {
   "cell_type": "code",
   "execution_count": 51,
   "id": "be3b36a3-a1f1-4182-a2c2-8dc99d6c7185",
   "metadata": {},
   "outputs": [
    {
     "data": {
      "text/html": [
       "<div>\n",
       "<style scoped>\n",
       "    .dataframe tbody tr th:only-of-type {\n",
       "        vertical-align: middle;\n",
       "    }\n",
       "\n",
       "    .dataframe tbody tr th {\n",
       "        vertical-align: top;\n",
       "    }\n",
       "\n",
       "    .dataframe thead th {\n",
       "        text-align: right;\n",
       "    }\n",
       "</style>\n",
       "<table border=\"1\" class=\"dataframe\">\n",
       "  <thead>\n",
       "    <tr style=\"text-align: right;\">\n",
       "      <th></th>\n",
       "      <th>PetID</th>\n",
       "      <th>PetType</th>\n",
       "      <th>Breed</th>\n",
       "      <th>AgeMonths</th>\n",
       "      <th>Color</th>\n",
       "      <th>Size</th>\n",
       "      <th>WeightKg</th>\n",
       "      <th>Vaccinated</th>\n",
       "      <th>HealthCondition</th>\n",
       "      <th>TimeInShelterDays</th>\n",
       "      <th>AdoptionFee</th>\n",
       "      <th>PreviousOwner</th>\n",
       "      <th>AdoptionLikelihood</th>\n",
       "      <th>AL</th>\n",
       "      <th>TSD</th>\n",
       "    </tr>\n",
       "  </thead>\n",
       "  <tbody>\n",
       "    <tr>\n",
       "      <th>0</th>\n",
       "      <td>500</td>\n",
       "      <td>Bird</td>\n",
       "      <td>Parakeet</td>\n",
       "      <td>131</td>\n",
       "      <td>Orange</td>\n",
       "      <td>Large</td>\n",
       "      <td>5.039768</td>\n",
       "      <td>1</td>\n",
       "      <td>0</td>\n",
       "      <td>27</td>\n",
       "      <td>140</td>\n",
       "      <td>0</td>\n",
       "      <td>0</td>\n",
       "      <td>NO</td>\n",
       "      <td>1month old</td>\n",
       "    </tr>\n",
       "    <tr>\n",
       "      <th>1</th>\n",
       "      <td>501</td>\n",
       "      <td>Rabbit</td>\n",
       "      <td>Rabbit</td>\n",
       "      <td>73</td>\n",
       "      <td>White</td>\n",
       "      <td>Large</td>\n",
       "      <td>16.086727</td>\n",
       "      <td>0</td>\n",
       "      <td>0</td>\n",
       "      <td>8</td>\n",
       "      <td>235</td>\n",
       "      <td>0</td>\n",
       "      <td>0</td>\n",
       "      <td>NO</td>\n",
       "      <td>1month old</td>\n",
       "    </tr>\n",
       "    <tr>\n",
       "      <th>2</th>\n",
       "      <td>502</td>\n",
       "      <td>Dog</td>\n",
       "      <td>Golden Retriever</td>\n",
       "      <td>136</td>\n",
       "      <td>Orange</td>\n",
       "      <td>Medium</td>\n",
       "      <td>2.076286</td>\n",
       "      <td>0</td>\n",
       "      <td>0</td>\n",
       "      <td>85</td>\n",
       "      <td>385</td>\n",
       "      <td>0</td>\n",
       "      <td>0</td>\n",
       "      <td>NO</td>\n",
       "      <td>3month old</td>\n",
       "    </tr>\n",
       "    <tr>\n",
       "      <th>3</th>\n",
       "      <td>503</td>\n",
       "      <td>Bird</td>\n",
       "      <td>Parakeet</td>\n",
       "      <td>97</td>\n",
       "      <td>White</td>\n",
       "      <td>Small</td>\n",
       "      <td>3.339423</td>\n",
       "      <td>0</td>\n",
       "      <td>0</td>\n",
       "      <td>61</td>\n",
       "      <td>217</td>\n",
       "      <td>1</td>\n",
       "      <td>0</td>\n",
       "      <td>NO</td>\n",
       "      <td>3month old</td>\n",
       "    </tr>\n",
       "    <tr>\n",
       "      <th>4</th>\n",
       "      <td>504</td>\n",
       "      <td>Rabbit</td>\n",
       "      <td>Rabbit</td>\n",
       "      <td>123</td>\n",
       "      <td>Gray</td>\n",
       "      <td>Large</td>\n",
       "      <td>20.498100</td>\n",
       "      <td>0</td>\n",
       "      <td>0</td>\n",
       "      <td>28</td>\n",
       "      <td>14</td>\n",
       "      <td>1</td>\n",
       "      <td>0</td>\n",
       "      <td>NO</td>\n",
       "      <td>1month old</td>\n",
       "    </tr>\n",
       "    <tr>\n",
       "      <th>...</th>\n",
       "      <td>...</td>\n",
       "      <td>...</td>\n",
       "      <td>...</td>\n",
       "      <td>...</td>\n",
       "      <td>...</td>\n",
       "      <td>...</td>\n",
       "      <td>...</td>\n",
       "      <td>...</td>\n",
       "      <td>...</td>\n",
       "      <td>...</td>\n",
       "      <td>...</td>\n",
       "      <td>...</td>\n",
       "      <td>...</td>\n",
       "      <td>...</td>\n",
       "      <td>...</td>\n",
       "    </tr>\n",
       "    <tr>\n",
       "      <th>2002</th>\n",
       "      <td>2502</td>\n",
       "      <td>Dog</td>\n",
       "      <td>Poodle</td>\n",
       "      <td>72</td>\n",
       "      <td>Orange</td>\n",
       "      <td>Small</td>\n",
       "      <td>27.039045</td>\n",
       "      <td>1</td>\n",
       "      <td>0</td>\n",
       "      <td>66</td>\n",
       "      <td>26</td>\n",
       "      <td>1</td>\n",
       "      <td>1</td>\n",
       "      <td>YES</td>\n",
       "      <td>3month old</td>\n",
       "    </tr>\n",
       "    <tr>\n",
       "      <th>2003</th>\n",
       "      <td>2503</td>\n",
       "      <td>Rabbit</td>\n",
       "      <td>Rabbit</td>\n",
       "      <td>124</td>\n",
       "      <td>Brown</td>\n",
       "      <td>Small</td>\n",
       "      <td>4.726954</td>\n",
       "      <td>1</td>\n",
       "      <td>1</td>\n",
       "      <td>59</td>\n",
       "      <td>150</td>\n",
       "      <td>0</td>\n",
       "      <td>0</td>\n",
       "      <td>NO</td>\n",
       "      <td>2month old</td>\n",
       "    </tr>\n",
       "    <tr>\n",
       "      <th>2004</th>\n",
       "      <td>2504</td>\n",
       "      <td>Rabbit</td>\n",
       "      <td>Rabbit</td>\n",
       "      <td>113</td>\n",
       "      <td>Orange</td>\n",
       "      <td>Small</td>\n",
       "      <td>1.758592</td>\n",
       "      <td>1</td>\n",
       "      <td>0</td>\n",
       "      <td>68</td>\n",
       "      <td>302</td>\n",
       "      <td>0</td>\n",
       "      <td>0</td>\n",
       "      <td>NO</td>\n",
       "      <td>3month old</td>\n",
       "    </tr>\n",
       "    <tr>\n",
       "      <th>2005</th>\n",
       "      <td>2505</td>\n",
       "      <td>Dog</td>\n",
       "      <td>Labrador</td>\n",
       "      <td>12</td>\n",
       "      <td>Gray</td>\n",
       "      <td>Large</td>\n",
       "      <td>20.961592</td>\n",
       "      <td>1</td>\n",
       "      <td>0</td>\n",
       "      <td>59</td>\n",
       "      <td>478</td>\n",
       "      <td>0</td>\n",
       "      <td>0</td>\n",
       "      <td>NO</td>\n",
       "      <td>2month old</td>\n",
       "    </tr>\n",
       "    <tr>\n",
       "      <th>2006</th>\n",
       "      <td>2506</td>\n",
       "      <td>Rabbit</td>\n",
       "      <td>Rabbit</td>\n",
       "      <td>126</td>\n",
       "      <td>White</td>\n",
       "      <td>Medium</td>\n",
       "      <td>18.519788</td>\n",
       "      <td>1</td>\n",
       "      <td>0</td>\n",
       "      <td>10</td>\n",
       "      <td>267</td>\n",
       "      <td>1</td>\n",
       "      <td>0</td>\n",
       "      <td>NO</td>\n",
       "      <td>1month old</td>\n",
       "    </tr>\n",
       "  </tbody>\n",
       "</table>\n",
       "<p>2007 rows × 15 columns</p>\n",
       "</div>"
      ],
      "text/plain": [
       "      PetID PetType             Breed  AgeMonths   Color    Size   WeightKg  \\\n",
       "0       500    Bird          Parakeet        131  Orange   Large   5.039768   \n",
       "1       501  Rabbit            Rabbit         73   White   Large  16.086727   \n",
       "2       502     Dog  Golden Retriever        136  Orange  Medium   2.076286   \n",
       "3       503    Bird          Parakeet         97   White   Small   3.339423   \n",
       "4       504  Rabbit            Rabbit        123    Gray   Large  20.498100   \n",
       "...     ...     ...               ...        ...     ...     ...        ...   \n",
       "2002   2502     Dog            Poodle         72  Orange   Small  27.039045   \n",
       "2003   2503  Rabbit            Rabbit        124   Brown   Small   4.726954   \n",
       "2004   2504  Rabbit            Rabbit        113  Orange   Small   1.758592   \n",
       "2005   2505     Dog          Labrador         12    Gray   Large  20.961592   \n",
       "2006   2506  Rabbit            Rabbit        126   White  Medium  18.519788   \n",
       "\n",
       "      Vaccinated  HealthCondition  TimeInShelterDays  AdoptionFee  \\\n",
       "0              1                0                 27          140   \n",
       "1              0                0                  8          235   \n",
       "2              0                0                 85          385   \n",
       "3              0                0                 61          217   \n",
       "4              0                0                 28           14   \n",
       "...          ...              ...                ...          ...   \n",
       "2002           1                0                 66           26   \n",
       "2003           1                1                 59          150   \n",
       "2004           1                0                 68          302   \n",
       "2005           1                0                 59          478   \n",
       "2006           1                0                 10          267   \n",
       "\n",
       "      PreviousOwner  AdoptionLikelihood   AL         TSD  \n",
       "0                 0                   0   NO  1month old  \n",
       "1                 0                   0   NO  1month old  \n",
       "2                 0                   0   NO  3month old  \n",
       "3                 1                   0   NO  3month old  \n",
       "4                 1                   0   NO  1month old  \n",
       "...             ...                 ...  ...         ...  \n",
       "2002              1                   1  YES  3month old  \n",
       "2003              0                   0   NO  2month old  \n",
       "2004              0                   0   NO  3month old  \n",
       "2005              0                   0   NO  2month old  \n",
       "2006              1                   0   NO  1month old  \n",
       "\n",
       "[2007 rows x 15 columns]"
      ]
     },
     "execution_count": 51,
     "metadata": {},
     "output_type": "execute_result"
    }
   ],
   "source": [
    "data"
   ]
  },
  {
   "cell_type": "code",
   "execution_count": 52,
   "id": "ff37399b-acde-4b22-b90f-d6587f190687",
   "metadata": {},
   "outputs": [
    {
     "data": {
      "text/plain": [
       "Index(['PetID', 'PetType', 'Breed', 'AgeMonths', 'Color', 'Size', 'WeightKg',\n",
       "       'Vaccinated', 'HealthCondition', 'TimeInShelterDays', 'AdoptionFee',\n",
       "       'PreviousOwner', 'AdoptionLikelihood', 'AL', 'TSD'],\n",
       "      dtype='object')"
      ]
     },
     "execution_count": 52,
     "metadata": {},
     "output_type": "execute_result"
    }
   ],
   "source": [
    "data.columns"
   ]
  },
  {
   "cell_type": "code",
   "execution_count": 12,
   "id": "89dfbe2b-3a43-4636-acf4-83e17254a88f",
   "metadata": {},
   "outputs": [],
   "source": [
    "df1=data[['PetID', 'PetType', 'Breed', 'AgeMonths', 'Color', 'Size', 'WeightKg',\n",
    "       'Vaccinated', 'HealthCondition', 'TimeInShelterDays', 'AdoptionFee',\n",
    "       'PreviousOwner']]\n",
    "label=data[['AdoptionLikelihood']]"
   ]
  },
  {
   "cell_type": "code",
   "execution_count": 13,
   "id": "5cfb7e26-4f27-4b3c-9535-77ce9dbfe846",
   "metadata": {},
   "outputs": [],
   "source": [
    "scaler= MinMaxScaler()\n",
    "df1[\"Scaler_WeightKg\"] = scaler.fit_transform(df1['WeightKg'].values.reshape(-1, 1))\n",
    "df1[\"Scaler_AgeMonths\"] = scaler.fit_transform(df1['AgeMonths'].values.reshape(-1, 1))\n",
    "df1[\"Scaler_TimeInShelterDays\"] = scaler.fit_transform(df1['TimeInShelterDays'].values.reshape(-1, 1))\n",
    "df1[\"Scaler_Vaccinated\"] = scaler.fit_transform(df1['Vaccinated'].values.reshape(-1, 1))\n",
    "df1[\"Scaler_HealthCondition\"] = scaler.fit_transform(df1['HealthCondition'].values.reshape(-1, 1))\n",
    "df1[\"Scaler_PreviousOwner\"] = scaler.fit_transform(df1['PreviousOwner'].values.reshape(-1, 1))\n",
    "df1[\"Scaler_AdoptionFee\"] = scaler.fit_transform(df1['AdoptionFee'].values.reshape(-1, 1))\n",
    "\n",
    "df1.drop(['PetType', 'Breed', 'Color', 'Size','WeightKg','PreviousOwner','Vaccinated','HealthCondition','AgeMonths','TimeInShelterDays','AdoptionFee'], axis=1, inplace=True)"
   ]
  },
  {
   "cell_type": "code",
   "execution_count": 14,
   "id": "aa784acf-e051-4b55-9511-d11e27948857",
   "metadata": {},
   "outputs": [
    {
     "data": {
      "text/html": [
       "<div>\n",
       "<style scoped>\n",
       "    .dataframe tbody tr th:only-of-type {\n",
       "        vertical-align: middle;\n",
       "    }\n",
       "\n",
       "    .dataframe tbody tr th {\n",
       "        vertical-align: top;\n",
       "    }\n",
       "\n",
       "    .dataframe thead th {\n",
       "        text-align: right;\n",
       "    }\n",
       "</style>\n",
       "<table border=\"1\" class=\"dataframe\">\n",
       "  <thead>\n",
       "    <tr style=\"text-align: right;\">\n",
       "      <th></th>\n",
       "      <th>PetID</th>\n",
       "      <th>Scaler_WeightKg</th>\n",
       "      <th>Scaler_AgeMonths</th>\n",
       "      <th>Scaler_TimeInShelterDays</th>\n",
       "      <th>Scaler_Vaccinated</th>\n",
       "      <th>Scaler_HealthCondition</th>\n",
       "      <th>Scaler_PreviousOwner</th>\n",
       "      <th>Scaler_AdoptionFee</th>\n",
       "    </tr>\n",
       "  </thead>\n",
       "  <tbody>\n",
       "    <tr>\n",
       "      <th>0</th>\n",
       "      <td>500</td>\n",
       "      <td>0.138783</td>\n",
       "      <td>0.730337</td>\n",
       "      <td>0.295455</td>\n",
       "      <td>1.0</td>\n",
       "      <td>0.0</td>\n",
       "      <td>0.0</td>\n",
       "      <td>0.280561</td>\n",
       "    </tr>\n",
       "    <tr>\n",
       "      <th>1</th>\n",
       "      <td>501</td>\n",
       "      <td>0.520009</td>\n",
       "      <td>0.404494</td>\n",
       "      <td>0.079545</td>\n",
       "      <td>0.0</td>\n",
       "      <td>0.0</td>\n",
       "      <td>0.0</td>\n",
       "      <td>0.470942</td>\n",
       "    </tr>\n",
       "    <tr>\n",
       "      <th>2</th>\n",
       "      <td>502</td>\n",
       "      <td>0.036514</td>\n",
       "      <td>0.758427</td>\n",
       "      <td>0.954545</td>\n",
       "      <td>0.0</td>\n",
       "      <td>0.0</td>\n",
       "      <td>0.0</td>\n",
       "      <td>0.771543</td>\n",
       "    </tr>\n",
       "    <tr>\n",
       "      <th>3</th>\n",
       "      <td>503</td>\n",
       "      <td>0.080105</td>\n",
       "      <td>0.539326</td>\n",
       "      <td>0.681818</td>\n",
       "      <td>0.0</td>\n",
       "      <td>0.0</td>\n",
       "      <td>1.0</td>\n",
       "      <td>0.434870</td>\n",
       "    </tr>\n",
       "    <tr>\n",
       "      <th>4</th>\n",
       "      <td>504</td>\n",
       "      <td>0.672244</td>\n",
       "      <td>0.685393</td>\n",
       "      <td>0.306818</td>\n",
       "      <td>0.0</td>\n",
       "      <td>0.0</td>\n",
       "      <td>1.0</td>\n",
       "      <td>0.028056</td>\n",
       "    </tr>\n",
       "    <tr>\n",
       "      <th>...</th>\n",
       "      <td>...</td>\n",
       "      <td>...</td>\n",
       "      <td>...</td>\n",
       "      <td>...</td>\n",
       "      <td>...</td>\n",
       "      <td>...</td>\n",
       "      <td>...</td>\n",
       "      <td>...</td>\n",
       "    </tr>\n",
       "    <tr>\n",
       "      <th>2002</th>\n",
       "      <td>2502</td>\n",
       "      <td>0.897969</td>\n",
       "      <td>0.398876</td>\n",
       "      <td>0.738636</td>\n",
       "      <td>1.0</td>\n",
       "      <td>0.0</td>\n",
       "      <td>1.0</td>\n",
       "      <td>0.052104</td>\n",
       "    </tr>\n",
       "    <tr>\n",
       "      <th>2003</th>\n",
       "      <td>2503</td>\n",
       "      <td>0.127988</td>\n",
       "      <td>0.691011</td>\n",
       "      <td>0.659091</td>\n",
       "      <td>1.0</td>\n",
       "      <td>1.0</td>\n",
       "      <td>0.0</td>\n",
       "      <td>0.300601</td>\n",
       "    </tr>\n",
       "    <tr>\n",
       "      <th>2004</th>\n",
       "      <td>2504</td>\n",
       "      <td>0.025551</td>\n",
       "      <td>0.629213</td>\n",
       "      <td>0.761364</td>\n",
       "      <td>1.0</td>\n",
       "      <td>0.0</td>\n",
       "      <td>0.0</td>\n",
       "      <td>0.605210</td>\n",
       "    </tr>\n",
       "    <tr>\n",
       "      <th>2005</th>\n",
       "      <td>2505</td>\n",
       "      <td>0.688239</td>\n",
       "      <td>0.061798</td>\n",
       "      <td>0.659091</td>\n",
       "      <td>1.0</td>\n",
       "      <td>0.0</td>\n",
       "      <td>0.0</td>\n",
       "      <td>0.957916</td>\n",
       "    </tr>\n",
       "    <tr>\n",
       "      <th>2006</th>\n",
       "      <td>2506</td>\n",
       "      <td>0.603973</td>\n",
       "      <td>0.702247</td>\n",
       "      <td>0.102273</td>\n",
       "      <td>1.0</td>\n",
       "      <td>0.0</td>\n",
       "      <td>1.0</td>\n",
       "      <td>0.535070</td>\n",
       "    </tr>\n",
       "  </tbody>\n",
       "</table>\n",
       "<p>2007 rows × 8 columns</p>\n",
       "</div>"
      ],
      "text/plain": [
       "      PetID  Scaler_WeightKg  Scaler_AgeMonths  Scaler_TimeInShelterDays  \\\n",
       "0       500         0.138783          0.730337                  0.295455   \n",
       "1       501         0.520009          0.404494                  0.079545   \n",
       "2       502         0.036514          0.758427                  0.954545   \n",
       "3       503         0.080105          0.539326                  0.681818   \n",
       "4       504         0.672244          0.685393                  0.306818   \n",
       "...     ...              ...               ...                       ...   \n",
       "2002   2502         0.897969          0.398876                  0.738636   \n",
       "2003   2503         0.127988          0.691011                  0.659091   \n",
       "2004   2504         0.025551          0.629213                  0.761364   \n",
       "2005   2505         0.688239          0.061798                  0.659091   \n",
       "2006   2506         0.603973          0.702247                  0.102273   \n",
       "\n",
       "      Scaler_Vaccinated  Scaler_HealthCondition  Scaler_PreviousOwner  \\\n",
       "0                   1.0                     0.0                   0.0   \n",
       "1                   0.0                     0.0                   0.0   \n",
       "2                   0.0                     0.0                   0.0   \n",
       "3                   0.0                     0.0                   1.0   \n",
       "4                   0.0                     0.0                   1.0   \n",
       "...                 ...                     ...                   ...   \n",
       "2002                1.0                     0.0                   1.0   \n",
       "2003                1.0                     1.0                   0.0   \n",
       "2004                1.0                     0.0                   0.0   \n",
       "2005                1.0                     0.0                   0.0   \n",
       "2006                1.0                     0.0                   1.0   \n",
       "\n",
       "      Scaler_AdoptionFee  \n",
       "0               0.280561  \n",
       "1               0.470942  \n",
       "2               0.771543  \n",
       "3               0.434870  \n",
       "4               0.028056  \n",
       "...                  ...  \n",
       "2002            0.052104  \n",
       "2003            0.300601  \n",
       "2004            0.605210  \n",
       "2005            0.957916  \n",
       "2006            0.535070  \n",
       "\n",
       "[2007 rows x 8 columns]"
      ]
     },
     "execution_count": 14,
     "metadata": {},
     "output_type": "execute_result"
    }
   ],
   "source": [
    "df1"
   ]
  },
  {
   "cell_type": "code",
   "execution_count": 56,
   "id": "d8c7cbf6-6ba5-4191-877b-7f9140abc18e",
   "metadata": {},
   "outputs": [
    {
     "name": "stdout",
     "output_type": "stream",
     "text": [
      "<class 'pandas.core.frame.DataFrame'>\n",
      "RangeIndex: 2007 entries, 0 to 2006\n",
      "Data columns (total 8 columns):\n",
      " #   Column                    Non-Null Count  Dtype  \n",
      "---  ------                    --------------  -----  \n",
      " 0   PetID                     2007 non-null   int64  \n",
      " 1   Scaler_WeightKg           2007 non-null   float64\n",
      " 2   Scaler_AgeMonths          2007 non-null   float64\n",
      " 3   Scaler_TimeInShelterDays  2007 non-null   float64\n",
      " 4   Scaler_Vaccinated         2007 non-null   float64\n",
      " 5   Scaler_HealthCondition    2007 non-null   float64\n",
      " 6   Scaler_PreviousOwner      2007 non-null   float64\n",
      " 7   Scaler_AdoptionFee        2007 non-null   float64\n",
      "dtypes: float64(7), int64(1)\n",
      "memory usage: 125.6 KB\n"
     ]
    }
   ],
   "source": [
    "df1.info()"
   ]
  },
  {
   "cell_type": "code",
   "execution_count": 57,
   "id": "2201a082-c55c-4d6a-a52f-08c7614db295",
   "metadata": {},
   "outputs": [
    {
     "data": {
      "text/plain": [
       "PetID                       0\n",
       "Scaler_WeightKg             0\n",
       "Scaler_AgeMonths            0\n",
       "Scaler_TimeInShelterDays    0\n",
       "Scaler_Vaccinated           0\n",
       "Scaler_HealthCondition      0\n",
       "Scaler_PreviousOwner        0\n",
       "Scaler_AdoptionFee          0\n",
       "dtype: int64"
      ]
     },
     "execution_count": 57,
     "metadata": {},
     "output_type": "execute_result"
    }
   ],
   "source": [
    "df1.isnull().sum()"
   ]
  },
  {
   "cell_type": "code",
   "execution_count": 58,
   "id": "7df96f22-f9d8-4705-be9e-5515a6b8a7d3",
   "metadata": {},
   "outputs": [
    {
     "data": {
      "text/html": [
       "<div>\n",
       "<style scoped>\n",
       "    .dataframe tbody tr th:only-of-type {\n",
       "        vertical-align: middle;\n",
       "    }\n",
       "\n",
       "    .dataframe tbody tr th {\n",
       "        vertical-align: top;\n",
       "    }\n",
       "\n",
       "    .dataframe thead th {\n",
       "        text-align: right;\n",
       "    }\n",
       "</style>\n",
       "<table border=\"1\" class=\"dataframe\">\n",
       "  <thead>\n",
       "    <tr style=\"text-align: right;\">\n",
       "      <th></th>\n",
       "      <th>AdoptionLikelihood</th>\n",
       "    </tr>\n",
       "  </thead>\n",
       "  <tbody>\n",
       "    <tr>\n",
       "      <th>0</th>\n",
       "      <td>0</td>\n",
       "    </tr>\n",
       "    <tr>\n",
       "      <th>1</th>\n",
       "      <td>0</td>\n",
       "    </tr>\n",
       "    <tr>\n",
       "      <th>2</th>\n",
       "      <td>0</td>\n",
       "    </tr>\n",
       "    <tr>\n",
       "      <th>3</th>\n",
       "      <td>0</td>\n",
       "    </tr>\n",
       "    <tr>\n",
       "      <th>4</th>\n",
       "      <td>0</td>\n",
       "    </tr>\n",
       "    <tr>\n",
       "      <th>...</th>\n",
       "      <td>...</td>\n",
       "    </tr>\n",
       "    <tr>\n",
       "      <th>2002</th>\n",
       "      <td>1</td>\n",
       "    </tr>\n",
       "    <tr>\n",
       "      <th>2003</th>\n",
       "      <td>0</td>\n",
       "    </tr>\n",
       "    <tr>\n",
       "      <th>2004</th>\n",
       "      <td>0</td>\n",
       "    </tr>\n",
       "    <tr>\n",
       "      <th>2005</th>\n",
       "      <td>0</td>\n",
       "    </tr>\n",
       "    <tr>\n",
       "      <th>2006</th>\n",
       "      <td>0</td>\n",
       "    </tr>\n",
       "  </tbody>\n",
       "</table>\n",
       "<p>2007 rows × 1 columns</p>\n",
       "</div>"
      ],
      "text/plain": [
       "      AdoptionLikelihood\n",
       "0                      0\n",
       "1                      0\n",
       "2                      0\n",
       "3                      0\n",
       "4                      0\n",
       "...                  ...\n",
       "2002                   1\n",
       "2003                   0\n",
       "2004                   0\n",
       "2005                   0\n",
       "2006                   0\n",
       "\n",
       "[2007 rows x 1 columns]"
      ]
     },
     "execution_count": 58,
     "metadata": {},
     "output_type": "execute_result"
    }
   ],
   "source": [
    "label"
   ]
  },
  {
   "cell_type": "code",
   "execution_count": 21,
   "id": "da420174-8b85-4fb4-aac7-fee69c2b222f",
   "metadata": {},
   "outputs": [],
   "source": [
    "X_train,X_test,y_train,y_test = train_test_split(df1 ,label, test_size=0.7,random_state=42)"
   ]
  },
  {
   "cell_type": "code",
   "execution_count": 60,
   "id": "d5a15831-8201-4f16-b87a-827406b157b0",
   "metadata": {},
   "outputs": [
    {
     "data": {
      "text/html": [
       "<div>\n",
       "<style scoped>\n",
       "    .dataframe tbody tr th:only-of-type {\n",
       "        vertical-align: middle;\n",
       "    }\n",
       "\n",
       "    .dataframe tbody tr th {\n",
       "        vertical-align: top;\n",
       "    }\n",
       "\n",
       "    .dataframe thead th {\n",
       "        text-align: right;\n",
       "    }\n",
       "</style>\n",
       "<table border=\"1\" class=\"dataframe\">\n",
       "  <thead>\n",
       "    <tr style=\"text-align: right;\">\n",
       "      <th></th>\n",
       "      <th>PetID</th>\n",
       "      <th>Scaler_WeightKg</th>\n",
       "      <th>Scaler_AgeMonths</th>\n",
       "      <th>Scaler_TimeInShelterDays</th>\n",
       "      <th>Scaler_Vaccinated</th>\n",
       "      <th>Scaler_HealthCondition</th>\n",
       "      <th>Scaler_PreviousOwner</th>\n",
       "      <th>Scaler_AdoptionFee</th>\n",
       "    </tr>\n",
       "  </thead>\n",
       "  <tbody>\n",
       "    <tr>\n",
       "      <th>916</th>\n",
       "      <td>1416</td>\n",
       "      <td>0.485381</td>\n",
       "      <td>0.376404</td>\n",
       "      <td>0.829545</td>\n",
       "      <td>1.0</td>\n",
       "      <td>0.0</td>\n",
       "      <td>0.0</td>\n",
       "      <td>0.839679</td>\n",
       "    </tr>\n",
       "    <tr>\n",
       "      <th>261</th>\n",
       "      <td>761</td>\n",
       "      <td>0.809372</td>\n",
       "      <td>0.960674</td>\n",
       "      <td>0.488636</td>\n",
       "      <td>0.0</td>\n",
       "      <td>0.0</td>\n",
       "      <td>1.0</td>\n",
       "      <td>0.817635</td>\n",
       "    </tr>\n",
       "    <tr>\n",
       "      <th>607</th>\n",
       "      <td>1107</td>\n",
       "      <td>0.340787</td>\n",
       "      <td>0.943820</td>\n",
       "      <td>0.477273</td>\n",
       "      <td>0.0</td>\n",
       "      <td>0.0</td>\n",
       "      <td>0.0</td>\n",
       "      <td>0.747495</td>\n",
       "    </tr>\n",
       "    <tr>\n",
       "      <th>1331</th>\n",
       "      <td>1831</td>\n",
       "      <td>0.063675</td>\n",
       "      <td>0.752809</td>\n",
       "      <td>0.556818</td>\n",
       "      <td>0.0</td>\n",
       "      <td>1.0</td>\n",
       "      <td>0.0</td>\n",
       "      <td>0.685371</td>\n",
       "    </tr>\n",
       "    <tr>\n",
       "      <th>240</th>\n",
       "      <td>740</td>\n",
       "      <td>0.894076</td>\n",
       "      <td>0.943820</td>\n",
       "      <td>0.818182</td>\n",
       "      <td>1.0</td>\n",
       "      <td>0.0</td>\n",
       "      <td>0.0</td>\n",
       "      <td>0.110220</td>\n",
       "    </tr>\n",
       "    <tr>\n",
       "      <th>...</th>\n",
       "      <td>...</td>\n",
       "      <td>...</td>\n",
       "      <td>...</td>\n",
       "      <td>...</td>\n",
       "      <td>...</td>\n",
       "      <td>...</td>\n",
       "      <td>...</td>\n",
       "      <td>...</td>\n",
       "    </tr>\n",
       "    <tr>\n",
       "      <th>1130</th>\n",
       "      <td>1630</td>\n",
       "      <td>0.755965</td>\n",
       "      <td>0.921348</td>\n",
       "      <td>0.545455</td>\n",
       "      <td>1.0</td>\n",
       "      <td>0.0</td>\n",
       "      <td>0.0</td>\n",
       "      <td>0.098196</td>\n",
       "    </tr>\n",
       "    <tr>\n",
       "      <th>1294</th>\n",
       "      <td>1794</td>\n",
       "      <td>0.253601</td>\n",
       "      <td>0.449438</td>\n",
       "      <td>0.806818</td>\n",
       "      <td>1.0</td>\n",
       "      <td>0.0</td>\n",
       "      <td>0.0</td>\n",
       "      <td>0.825651</td>\n",
       "    </tr>\n",
       "    <tr>\n",
       "      <th>860</th>\n",
       "      <td>1360</td>\n",
       "      <td>0.932227</td>\n",
       "      <td>0.101124</td>\n",
       "      <td>0.340909</td>\n",
       "      <td>1.0</td>\n",
       "      <td>0.0</td>\n",
       "      <td>1.0</td>\n",
       "      <td>0.492986</td>\n",
       "    </tr>\n",
       "    <tr>\n",
       "      <th>1459</th>\n",
       "      <td>1959</td>\n",
       "      <td>0.443574</td>\n",
       "      <td>0.865169</td>\n",
       "      <td>0.977273</td>\n",
       "      <td>1.0</td>\n",
       "      <td>0.0</td>\n",
       "      <td>1.0</td>\n",
       "      <td>0.839679</td>\n",
       "    </tr>\n",
       "    <tr>\n",
       "      <th>1126</th>\n",
       "      <td>1626</td>\n",
       "      <td>0.282593</td>\n",
       "      <td>0.185393</td>\n",
       "      <td>0.931818</td>\n",
       "      <td>0.0</td>\n",
       "      <td>0.0</td>\n",
       "      <td>0.0</td>\n",
       "      <td>0.498998</td>\n",
       "    </tr>\n",
       "  </tbody>\n",
       "</table>\n",
       "<p>1605 rows × 8 columns</p>\n",
       "</div>"
      ],
      "text/plain": [
       "      PetID  Scaler_WeightKg  Scaler_AgeMonths  Scaler_TimeInShelterDays  \\\n",
       "916    1416         0.485381          0.376404                  0.829545   \n",
       "261     761         0.809372          0.960674                  0.488636   \n",
       "607    1107         0.340787          0.943820                  0.477273   \n",
       "1331   1831         0.063675          0.752809                  0.556818   \n",
       "240     740         0.894076          0.943820                  0.818182   \n",
       "...     ...              ...               ...                       ...   \n",
       "1130   1630         0.755965          0.921348                  0.545455   \n",
       "1294   1794         0.253601          0.449438                  0.806818   \n",
       "860    1360         0.932227          0.101124                  0.340909   \n",
       "1459   1959         0.443574          0.865169                  0.977273   \n",
       "1126   1626         0.282593          0.185393                  0.931818   \n",
       "\n",
       "      Scaler_Vaccinated  Scaler_HealthCondition  Scaler_PreviousOwner  \\\n",
       "916                 1.0                     0.0                   0.0   \n",
       "261                 0.0                     0.0                   1.0   \n",
       "607                 0.0                     0.0                   0.0   \n",
       "1331                0.0                     1.0                   0.0   \n",
       "240                 1.0                     0.0                   0.0   \n",
       "...                 ...                     ...                   ...   \n",
       "1130                1.0                     0.0                   0.0   \n",
       "1294                1.0                     0.0                   0.0   \n",
       "860                 1.0                     0.0                   1.0   \n",
       "1459                1.0                     0.0                   1.0   \n",
       "1126                0.0                     0.0                   0.0   \n",
       "\n",
       "      Scaler_AdoptionFee  \n",
       "916             0.839679  \n",
       "261             0.817635  \n",
       "607             0.747495  \n",
       "1331            0.685371  \n",
       "240             0.110220  \n",
       "...                  ...  \n",
       "1130            0.098196  \n",
       "1294            0.825651  \n",
       "860             0.492986  \n",
       "1459            0.839679  \n",
       "1126            0.498998  \n",
       "\n",
       "[1605 rows x 8 columns]"
      ]
     },
     "execution_count": 60,
     "metadata": {},
     "output_type": "execute_result"
    }
   ],
   "source": [
    "X_train"
   ]
  },
  {
   "cell_type": "code",
   "execution_count": 61,
   "id": "f2372158-9fa6-41ae-a512-c18c21adc665",
   "metadata": {},
   "outputs": [
    {
     "data": {
      "text/html": [
       "<div>\n",
       "<style scoped>\n",
       "    .dataframe tbody tr th:only-of-type {\n",
       "        vertical-align: middle;\n",
       "    }\n",
       "\n",
       "    .dataframe tbody tr th {\n",
       "        vertical-align: top;\n",
       "    }\n",
       "\n",
       "    .dataframe thead th {\n",
       "        text-align: right;\n",
       "    }\n",
       "</style>\n",
       "<table border=\"1\" class=\"dataframe\">\n",
       "  <thead>\n",
       "    <tr style=\"text-align: right;\">\n",
       "      <th></th>\n",
       "      <th>AdoptionLikelihood</th>\n",
       "    </tr>\n",
       "  </thead>\n",
       "  <tbody>\n",
       "    <tr>\n",
       "      <th>916</th>\n",
       "      <td>1</td>\n",
       "    </tr>\n",
       "    <tr>\n",
       "      <th>261</th>\n",
       "      <td>0</td>\n",
       "    </tr>\n",
       "    <tr>\n",
       "      <th>607</th>\n",
       "      <td>0</td>\n",
       "    </tr>\n",
       "    <tr>\n",
       "      <th>1331</th>\n",
       "      <td>0</td>\n",
       "    </tr>\n",
       "    <tr>\n",
       "      <th>240</th>\n",
       "      <td>0</td>\n",
       "    </tr>\n",
       "    <tr>\n",
       "      <th>...</th>\n",
       "      <td>...</td>\n",
       "    </tr>\n",
       "    <tr>\n",
       "      <th>1130</th>\n",
       "      <td>0</td>\n",
       "    </tr>\n",
       "    <tr>\n",
       "      <th>1294</th>\n",
       "      <td>0</td>\n",
       "    </tr>\n",
       "    <tr>\n",
       "      <th>860</th>\n",
       "      <td>1</td>\n",
       "    </tr>\n",
       "    <tr>\n",
       "      <th>1459</th>\n",
       "      <td>0</td>\n",
       "    </tr>\n",
       "    <tr>\n",
       "      <th>1126</th>\n",
       "      <td>0</td>\n",
       "    </tr>\n",
       "  </tbody>\n",
       "</table>\n",
       "<p>1605 rows × 1 columns</p>\n",
       "</div>"
      ],
      "text/plain": [
       "      AdoptionLikelihood\n",
       "916                    1\n",
       "261                    0\n",
       "607                    0\n",
       "1331                   0\n",
       "240                    0\n",
       "...                  ...\n",
       "1130                   0\n",
       "1294                   0\n",
       "860                    1\n",
       "1459                   0\n",
       "1126                   0\n",
       "\n",
       "[1605 rows x 1 columns]"
      ]
     },
     "execution_count": 61,
     "metadata": {},
     "output_type": "execute_result"
    }
   ],
   "source": [
    "y_train"
   ]
  },
  {
   "cell_type": "code",
   "execution_count": 22,
   "id": "d4afe341-f186-4e23-8ef0-38a9e6d01d29",
   "metadata": {},
   "outputs": [
    {
     "name": "stdout",
     "output_type": "stream",
     "text": [
      "Logistic Regression\n",
      "Accuracy: 0.7202846975088968\n",
      "Precision: 0.5837696335078534\n",
      "Recall: 0.487964989059081\n",
      "F1_score: 0.5315852205005959\n",
      "AUC-ROC: 0.6601217350358696\n"
     ]
    }
   ],
   "source": [
    "logreg = LogisticRegression()\n",
    "logreg.fit(X_train, y_train)\n",
    "ly_pred = logreg.predict(X_test)\n",
    "print(\"Logistic Regression\")\n",
    "print(\"Accuracy:\" ,accuracy_score(y_test,ly_pred))\n",
    "print(\"Precision:\", precision_score(y_test,ly_pred))\n",
    "print(\"Recall:\",recall_score(y_test,ly_pred))\n",
    "print(\"F1_score:\", f1_score(y_test , ly_pred))\n",
    "print(\"AUC-ROC:\", roc_auc_score(y_test, ly_pred))"
   ]
  },
  {
   "cell_type": "code",
   "execution_count": 23,
   "id": "8d18b485-8eb5-4f26-aeef-8d430f1665ea",
   "metadata": {},
   "outputs": [
    {
     "data": {
      "image/png": "[encoded data removed]",
      "text/plain": [
       "<Figure size 640x480 with 2 Axes>"
      ]
     },
     "metadata": {},
     "output_type": "display_data"
    }
   ],
   "source": [
    "cm = confusion_matrix(y_test, ly_pred)\n",
    "\n",
    "##To visualize the confusion Matrix\n",
    "sns.heatmap(cm ,annot=True, cmap=\"Blues\", fmt=\"g\")\n",
    "plt.xlabel(\"Predicted\")\n",
    "plt.ylabel(\"Actual\")\n",
    "plt.title(\"Confusion Matrix\")\n",
    "plt.show()"
   ]
  },
  {
   "cell_type": "code",
   "execution_count": 24,
   "id": "f1c6977c-1cea-4b21-8d92-8f4932e287a1",
   "metadata": {},
   "outputs": [
    {
     "name": "stdout",
     "output_type": "stream",
     "text": [
      "Random Forest\n",
      "Accuracy: 0.7224199288256228\n",
      "Precision: 0.6098360655737705\n",
      "Recall: 0.40700218818380746\n",
      "F1_score: 0.4881889763779527\n",
      "AUC-ROC: 0.640737381011735\n"
     ]
    }
   ],
   "source": [
    "rfc = RandomForestClassifier()\n",
    "rfc.fit(X_train, y_train)\n",
    "rfc_pred = rfc.predict(X_test)\n",
    "print(\"Random Forest\")\n",
    "print(\"Accuracy:\" ,accuracy_score(y_test,rfc_pred))\n",
    "print(\"Precision:\", precision_score(y_test,rfc_pred))\n",
    "print(\"Recall:\",recall_score(y_test,rfc_pred))\n",
    "print(\"F1_score:\", f1_score(y_test , rfc_pred))\n",
    "print(\"AUC-ROC:\", roc_auc_score(y_test, rfc_pred))"
   ]
  },
  {
   "cell_type": "code",
   "execution_count": 25,
   "id": "598b4629-5ea0-4fc8-aa18-fa45077c89ee",
   "metadata": {},
   "outputs": [
    {
     "data": {
      "image/png": "[encoded data removed]",
      "text/plain": [
       "<Figure size 640x480 with 2 Axes>"
      ]
     },
     "metadata": {},
     "output_type": "display_data"
    }
   ],
   "source": [
    "cm = confusion_matrix(y_test, rfc_pred)\n",
    "\n",
    "##To visualize the confusion Matrix\n",
    "sns.heatmap(cm ,annot=True, cmap=\"Blues\", fmt=\"g\")\n",
    "plt.xlabel(\"Predicted\")\n",
    "plt.ylabel(\"Actual\")\n",
    "plt.title(\"Confusion Matrix\")\n",
    "plt.show()"
   ]
  },
  {
   "cell_type": "code",
   "execution_count": 26,
   "id": "69fd9afa-7a8b-4056-8d05-871b4040abcc",
   "metadata": {},
   "outputs": [
    {
     "name": "stdout",
     "output_type": "stream",
     "text": [
      "SGDClassifier\n",
      "Accuracy: 0.6747330960854092\n",
      "Precision: 0.0\n",
      "Recall: 0.0\n",
      "F1_score: 0.0\n",
      "AUC-ROC: 0.5\n"
     ]
    }
   ],
   "source": [
    "sgd = SGDClassifier()\n",
    "sgd.fit(X_train, y_train)\n",
    "sgd_pred = sgd.predict(X_test)\n",
    "print(\"SGDClassifier\")\n",
    "print(\"Accuracy:\" ,accuracy_score(y_test,sgd_pred))\n",
    "print(\"Precision:\", precision_score(y_test,sgd_pred))\n",
    "print(\"Recall:\",recall_score(y_test,sgd_pred))\n",
    "print(\"F1_score:\", f1_score(y_test , sgd_pred))\n",
    "print(\"AUC-ROC:\", roc_auc_score(y_test, sgd_pred))"
   ]
  },
  {
   "cell_type": "code",
   "execution_count": 27,
   "id": "d535b0df-f362-44bf-8dea-7e1af1b09aab",
   "metadata": {},
   "outputs": [
    {
     "data": {
      "image/png": "[encoded data removed]",
      "text/plain": [
       "<Figure size 640x480 with 2 Axes>"
      ]
     },
     "metadata": {},
     "output_type": "display_data"
    }
   ],
   "source": [
    "cm = confusion_matrix(y_test, sgd_pred)\n",
    "\n",
    "##To visualize the confusion Matrix\n",
    "sns.heatmap(cm ,annot=True, cmap=\"Blues\", fmt=\"g\")\n",
    "plt.xlabel(\"Predicted\")\n",
    "plt.ylabel(\"Actual\")\n",
    "plt.title(\"Confusion Matrix\")\n",
    "plt.show()"
   ]
  },
  {
   "cell_type": "code",
   "execution_count": 28,
   "id": "b76aec0d-1b05-401a-bb4c-3170ad582219",
   "metadata": {},
   "outputs": [
    {
     "name": "stdout",
     "output_type": "stream",
     "text": [
      " DecisionTreeClassifier\n",
      "Accuracy: 0.6946619217081851\n",
      "Precision: 0.5311111111111111\n",
      "Recall: 0.5229759299781181\n",
      "F1_score: 0.5270121278941565\n",
      "AUC-ROC: 0.6502010451578355\n"
     ]
    }
   ],
   "source": [
    "dtc =  DecisionTreeClassifier()\n",
    "dtc.fit(X_train, y_train)\n",
    "dtc_pred = dtc.predict(X_test)\n",
    "print(\" DecisionTreeClassifier\")\n",
    "print(\"Accuracy:\" ,accuracy_score(y_test,dtc_pred))\n",
    "print(\"Precision:\", precision_score(y_test,dtc_pred))\n",
    "print(\"Recall:\",recall_score(y_test,dtc_pred))\n",
    "print(\"F1_score:\", f1_score(y_test , dtc_pred))\n",
    "print(\"AUC-ROC:\", roc_auc_score(y_test, dtc_pred))"
   ]
  },
  {
   "cell_type": "code",
   "execution_count": 29,
   "id": "3e000692-ce30-40bd-afde-8bbceeed250a",
   "metadata": {},
   "outputs": [
    {
     "data": {
      "image/png": "[encoded data removed]",
      "text/plain": [
       "<Figure size 640x480 with 2 Axes>"
      ]
     },
     "metadata": {},
     "output_type": "display_data"
    }
   ],
   "source": [
    "cm = confusion_matrix(y_test, dtc_pred)\n",
    "\n",
    "##To visualize the confusion Matrix\n",
    "sns.heatmap(cm ,annot=True, cmap=\"Blues\", fmt=\"g\")\n",
    "plt.xlabel(\"Predicted\")\n",
    "plt.ylabel(\"Actual\")\n",
    "plt.title(\"Confusion Matrix\")\n",
    "plt.show()"
   ]
  },
  {
   "cell_type": "code",
   "execution_count": null,
   "id": "4948a7e0-d5b9-456f-a2f4-3632033b97fd",
   "metadata": {},
   "outputs": [],
   "source": []
  },
  {
   "cell_type": "code",
   "execution_count": null,
   "id": "d1d96d6c-5764-466f-a72b-587be05d4b4a",
   "metadata": {},
   "outputs": [],
   "source": []
  },
  {
   "cell_type": "code",
   "execution_count": null,
   "id": "5a583e9b-c046-4763-839e-d1bf8bf5e441",
   "metadata": {},
   "outputs": [],
   "source": []
  },
  {
   "cell_type": "code",
   "execution_count": null,
   "id": "a47f6a5d-9c3e-4027-97dc-9b9c729ccb52",
   "metadata": {},
   "outputs": [],
   "source": []
  },
  {
   "cell_type": "code",
   "execution_count": null,
   "id": "d3e9deb4-5939-40e3-91eb-f3d00ca83ccc",
   "metadata": {},
   "outputs": [],
   "source": []
  },
  {
   "cell_type": "code",
   "execution_count": null,
   "id": "3dade5bd-5020-4e3b-8c7d-d87a58002e5b",
   "metadata": {},
   "outputs": [],
   "source": []
  },
  {
   "cell_type": "code",
   "execution_count": null,
   "id": "81ab182a-a648-4d09-89bf-e201e4dd8b56",
   "metadata": {},
   "outputs": [],
   "source": []
  },
  {
   "cell_type": "code",
   "execution_count": null,
   "id": "e64addc8-3798-4836-84e7-dfffa39b4e22",
   "metadata": {},
   "outputs": [],
   "source": []
  },
  {
   "cell_type": "code",
   "execution_count": null,
   "id": "9c24e1f2-362f-44fb-8d8a-99042dbb461a",
   "metadata": {},
   "outputs": [],
   "source": []
  },
  {
   "cell_type": "code",
   "execution_count": null,
   "id": "f4beda77-5cfb-47c1-b63b-cdcae57e7b96",
   "metadata": {},
   "outputs": [],
   "source": []
  },
  {
   "cell_type": "code",
   "execution_count": null,
   "id": "a6de36bc-48c3-417e-9367-f81de0de589a",
   "metadata": {},
   "outputs": [],
   "source": []
  },
  {
   "cell_type": "code",
   "execution_count": null,
   "id": "fe78e648-8a03-4dd8-b730-5f2022c75348",
   "metadata": {},
   "outputs": [],
   "source": []
  },
  {
   "cell_type": "code",
   "execution_count": null,
   "id": "1f99f236-98b9-4920-9d15-87fe230c9010",
   "metadata": {},
   "outputs": [],
   "source": []
  },
  {
   "cell_type": "code",
   "execution_count": null,
   "id": "40402e8f-18b3-4d3c-86bf-94408b08b4d8",
   "metadata": {},
   "outputs": [],
   "source": []
  },
  {
   "cell_type": "code",
   "execution_count": null,
   "id": "9128515e-0824-440f-a7d5-f2a504583b2d",
   "metadata": {},
   "outputs": [],
   "source": []
  },
  {
   "cell_type": "code",
   "execution_count": null,
   "id": "bc89235e-eb15-4a4b-83e3-940be735b687",
   "metadata": {},
   "outputs": [],
   "source": []
  },
  {
   "cell_type": "code",
   "execution_count": null,
   "id": "745e0ce3-ed17-46d3-897c-0af37159c156",
   "metadata": {},
   "outputs": [],
   "source": []
  },
  {
   "cell_type": "code",
   "execution_count": null,
   "id": "04cbcd1f-6a7b-4b76-9903-41b96971b05d",
   "metadata": {},
   "outputs": [],
   "source": []
  },
  {
   "cell_type": "code",
   "execution_count": null,
   "id": "3025acae-a2a8-47fe-8cfc-99838be0dd86",
   "metadata": {},
   "outputs": [],
   "source": []
  },
  {
   "cell_type": "code",
   "execution_count": null,
   "id": "66dba274-e3e6-46a2-a2fd-6323ba609ddb",
   "metadata": {},
   "outputs": [],
   "source": []
  },
  {
   "cell_type": "code",
   "execution_count": null,
   "id": "ed0ad1d1-8fab-4bfd-b946-93f6afeb5aef",
   "metadata": {},
   "outputs": [],
   "source": []
  },
  {
   "cell_type": "code",
   "execution_count": null,
   "id": "848347fb-1fa3-4e53-a714-f5bcddfd79d6",
   "metadata": {},
   "outputs": [],
   "source": []
  },
  {
   "cell_type": "code",
   "execution_count": null,
   "id": "2b06ae46-3b22-4721-b064-2d27314c4ae4",
   "metadata": {},
   "outputs": [],
   "source": []
  },
  {
   "cell_type": "code",
   "execution_count": null,
   "id": "60ab0886-5bbc-4b1f-8a10-52418659e570",
   "metadata": {},
   "outputs": [],
   "source": []
  },
  {
   "cell_type": "code",
   "execution_count": null,
   "id": "cf11b56c-5e11-4208-a7e7-1674607fd141",
   "metadata": {},
   "outputs": [],
   "source": []
  },
  {
   "cell_type": "code",
   "execution_count": null,
   "id": "63a3ce8d-f744-4035-9878-5fb35546013a",
   "metadata": {},
   "outputs": [],
   "source": []
  },
  {
   "cell_type": "code",
   "execution_count": null,
   "id": "2a82fd1c-0966-463f-9611-ae5b3ab0f809",
   "metadata": {},
   "outputs": [],
   "source": []
  },
  {
   "cell_type": "code",
   "execution_count": null,
   "id": "22157ae7-f8f7-4bbc-bddb-031d5e24557e",
   "metadata": {},
   "outputs": [],
   "source": []
  },
  {
   "cell_type": "code",
   "execution_count": null,
   "id": "9e6d5993-cc87-4016-b807-05e1082c3b0a",
   "metadata": {},
   "outputs": [],
   "source": []
  },
  {
   "cell_type": "code",
   "execution_count": null,
   "id": "ac7c5e4f-35f2-46a1-95af-e52ced7ba3b8",
   "metadata": {},
   "outputs": [],
   "source": []
  },
  {
   "cell_type": "code",
   "execution_count": null,
   "id": "abe400b1-bb81-4262-827e-531408106f4c",
   "metadata": {},
   "outputs": [],
   "source": []
  }
 ],
 "metadata": {
  "kernelspec": {
   "display_name": "Python 3 (ipykernel)",
   "language": "python",
   "name": "python3"
  },
  "language_info": {
   "codemirror_mode": {
    "name": "ipython",
    "version": 3
   },
   "file_extension": ".py",
   "mimetype": "text/x-python",
   "name": "python",
   "nbconvert_exporter": "python",
   "pygments_lexer": "ipython3",
   "version": "3.11.7"
  }
 },
 "nbformat": 4,
 "nbformat_minor": 5
}
